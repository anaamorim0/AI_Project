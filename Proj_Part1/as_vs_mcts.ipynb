{
 "cells": [
  {
   "cell_type": "markdown",
   "id": "39ccd69c",
   "metadata": {},
   "source": [
    "# A* vs MCTS"
   ]
  },
  {
   "cell_type": "code",
   "execution_count": null,
   "id": "31442ec4",
   "metadata": {},
   "outputs": [],
   "source": [
    "%run \"./Connectfour_mcts.ipynb\""
   ]
  },
  {
   "cell_type": "code",
   "execution_count": null,
   "id": "7a55ea38",
   "metadata": {},
   "outputs": [],
   "source": [
    "%run \"./Mcts.ipynb\""
   ]
  },
  {
   "cell_type": "code",
   "execution_count": null,
   "id": "fbbe245f",
   "metadata": {},
   "outputs": [],
   "source": [
    "%run \".Astar.ipynb\""
   ]
  },
  {
   "cell_type": "markdown",
   "id": "61bd894d",
   "metadata": {},
   "source": [
    "O Monte Carlo Tree Search é preferível ao A* em jogos de dois jogadores devido à sua capacidade de lidar com espaços de busca complexos e dinâmicos. Enquanto o A* é eficaz em problemas com um espaço de busca bem definido e uma heurística clara, o MCTS é mais eficiente em cenários onde as regras do jogo são menos previsíveis ou onde a heurística é difícil de definir. Isso deve-se à natureza probabilística do MCTS, que usa simulações aleatórias para explorar o espaço de busca e tomar decisões informadas."
   ]
  },
  {
   "cell_type": "code",
   "execution_count": 3,
   "id": "33cdac3b",
   "metadata": {},
   "outputs": [
    {
     "ename": "AttributeError",
     "evalue": "'ConnectFour' object has no attribute 'game_over'",
     "output_type": "error",
     "traceback": [
      "\u001b[0;31m---------------------------------------------------------------------------\u001b[0m",
      "\u001b[0;31mAttributeError\u001b[0m                            Traceback (most recent call last)",
      "\u001b[0;32m/tmp/ipykernel_66450/3206646985.py\u001b[0m in \u001b[0;36m<module>\u001b[0;34m\u001b[0m\n\u001b[1;32m     54\u001b[0m \u001b[0;34m\u001b[0m\u001b[0m\n\u001b[1;32m     55\u001b[0m \u001b[0;32mif\u001b[0m \u001b[0m__name__\u001b[0m \u001b[0;34m==\u001b[0m \u001b[0;34m\"__main__\"\u001b[0m\u001b[0;34m:\u001b[0m\u001b[0;34m\u001b[0m\u001b[0;34m\u001b[0m\u001b[0m\n\u001b[0;32m---> 56\u001b[0;31m     \u001b[0mplay\u001b[0m\u001b[0;34m(\u001b[0m\u001b[0;34m)\u001b[0m\u001b[0;34m\u001b[0m\u001b[0;34m\u001b[0m\u001b[0m\n\u001b[0m",
      "\u001b[0;32m/tmp/ipykernel_66450/3206646985.py\u001b[0m in \u001b[0;36mplay\u001b[0;34m()\u001b[0m\n\u001b[1;32m      7\u001b[0m     \u001b[0mmcts\u001b[0m \u001b[0;34m=\u001b[0m \u001b[0mMCTS\u001b[0m\u001b[0;34m(\u001b[0m\u001b[0mstate\u001b[0m\u001b[0;34m)\u001b[0m\u001b[0;34m\u001b[0m\u001b[0;34m\u001b[0m\u001b[0m\n\u001b[1;32m      8\u001b[0m \u001b[0;34m\u001b[0m\u001b[0m\n\u001b[0;32m----> 9\u001b[0;31m     \u001b[0;32mwhile\u001b[0m \u001b[0;32mnot\u001b[0m \u001b[0mstate\u001b[0m\u001b[0;34m.\u001b[0m\u001b[0mgame_over\u001b[0m\u001b[0;34m(\u001b[0m\u001b[0;34m)\u001b[0m\u001b[0;34m:\u001b[0m\u001b[0;34m\u001b[0m\u001b[0;34m\u001b[0m\u001b[0m\n\u001b[0m\u001b[1;32m     10\u001b[0m         \u001b[0mprint\u001b[0m\u001b[0;34m(\u001b[0m\u001b[0;34m\"Jogada do jogador O, A*:\"\u001b[0m\u001b[0;34m)\u001b[0m\u001b[0;34m\u001b[0m\u001b[0;34m\u001b[0m\u001b[0m\n\u001b[1;32m     11\u001b[0m         \u001b[0;31m# Faz o print inicial do tabuleiro\u001b[0m\u001b[0;34m\u001b[0m\u001b[0;34m\u001b[0m\u001b[0m\n",
      "\u001b[0;31mAttributeError\u001b[0m: 'ConnectFour' object has no attribute 'game_over'"
     ]
    }
   ],
   "source": [
    "from connect4 import ConnectFour\n",
    "from mcts import MCTS\n",
    "from astar import Astar\n",
    "\n",
    "def play():\n",
    "    state = ConnectFour()\n",
    "    mcts = MCTS(state)\n",
    "\n",
    "    while not state.game_over():\n",
    "        print(\"Jogada do jogador O, A*:\")\n",
    "        # Faz o print inicial do tabuleiro\n",
    "        state.print_board(state.board)\n",
    "\n",
    "        # Pede a resposta ao Astar\n",
    "        res = Astar.astar(state.board, True)\n",
    "\n",
    "        if res is None:\n",
    "            print(\"O tabuleiro está completo.\")\n",
    "            break\n",
    "\n",
    "        # Pões resposta no tabuleiro\n",
    "        col_O = res.move\n",
    "        row_O = state.empty_row(state.board, col_O)\n",
    "        state.drop_token(state.board, row_O, col_O, state.PLAYER_O)\n",
    "        mcts.move(col_O)\n",
    "\n",
    "        # Faz print do tabuleiro\n",
    "        print(\"Jogada do jogador X, MCTS:\")\n",
    "        state.print_board(state.board)\n",
    "\n",
    "        if state.game_over():\n",
    "            print(\"Player one won!\")\n",
    "            break\n",
    "\n",
    "        print(\"Thinking...\")\n",
    "\n",
    "        # Pede as coisas ao mcts\n",
    "        mcts.search(1)\n",
    "        num_rollouts, run_time = mcts.statistics()\n",
    "        print(\"Statistics: \", num_rollouts, \"rollouts in\", run_time, \"seconds\")\n",
    "        move = mcts.best_move()\n",
    "\n",
    "        print(\"MCTS chose move: \", move)\n",
    "\n",
    "        col_X = move\n",
    "        row_X = state.empty_row(state.board, col_X)\n",
    "        state.drop_token(state.board, row_X, col_X, state.PLAYER_X)\n",
    "        mcts.move(col_X)\n",
    "\n",
    "        if state.game_over():\n",
    "            print(\"Player two won!\")\n",
    "            break\n",
    "\n",
    "\n",
    "if __name__ == \"__main__\":\n",
    "    play()\n"
   ]
  },
  {
   "cell_type": "markdown",
   "id": "762ac89f",
   "metadata": {},
   "source": [
    "Realizamos uma experiência para avaliar o desempenho do algoritmo MCTS (Monte Carlo Tree Search) em comparação com o A* num jogo específico. Modificamos o tempo de busca do MCTS em cinco diferentes configurações: 1 segundo, 2 segundos, 3 segundos, 4 segundos e 5 segundos. Em seguida, executamos o programa para cada configuração de tempo, realizando 20 jogos para cada uma. Registramos os resultados desses jogos, contabilizando o número de vitórias do MCTS e do A* em cada configuração de tempo. Os resultados mostram que, à medida que aumentamos o tempo de procura do MCTS, sua taxa de vitória tende a aumentar, com o A* ganhando menos frequentemente conforme o tempo do MCTS aumenta. Essas informações estão representadas no gráfico abaixo."
   ]
  },
  {
   "cell_type": "code",
   "execution_count": 1,
   "id": "32ac9285",
   "metadata": {},
   "outputs": [
    {
     "data": {
      "image/png": "[encoded data removed]",
      "text/plain": [
       "<Figure size 640x480 with 1 Axes>"
      ]
     },
     "metadata": {},
     "output_type": "display_data"
    }
   ],
   "source": [
    "import matplotlib.pyplot as plt\n",
    "\n",
    "# Data\n",
    "data = {\n",
    "    'MCTS_1s': {'MCTS_WINS': 14, 'A*_WINS': 6},\n",
    "    'MCTS_2s': {'MCTS_WINS': 16, 'A*_WINS': 4},\n",
    "    'MCTS_3s': {'MCTS_WINS': 17, 'A*_WINS': 3},\n",
    "    'MCTS_4s': {'MCTS_WINS': 19, 'A*_WINS': 1},\n",
    "    'MCTS_5s': {'MCTS_WINS': 20, 'A*_WINS': 0}\n",
    "}\n",
    "\n",
    "# Extract data\n",
    "labels = list(data.keys())\n",
    "mcts_wins = [data[label]['MCTS_WINS'] for label in labels]\n",
    "astar_wins = [data[label]['A*_WINS'] for label in labels]\n",
    "\n",
    "# Plot\n",
    "x = range(len(labels))\n",
    "bar_width = 0.35\n",
    "fig, ax = plt.subplots()\n",
    "rects1 = ax.bar(x, mcts_wins, bar_width, label='MCTS Wins')\n",
    "rects2 = ax.bar([i + bar_width for i in x], astar_wins, bar_width, label='A* Wins')\n",
    "\n",
    "# Add labels, title, and legend\n",
    "ax.set_xlabel('Time Limit (seconds)')\n",
    "ax.set_ylabel('Number of Wins')\n",
    "ax.set_title('MCTS vs A* Wins')\n",
    "ax.set_xticks([i + bar_width / 2 for i in x])\n",
    "ax.set_xticklabels(labels)\n",
    "ax.legend()\n",
    "\n",
    "# Add value labels on top of the bars\n",
    "def add_labels(rects):\n",
    "    for rect in rects:\n",
    "        height = rect.get_height()\n",
    "        ax.annotate('{}'.format(height),\n",
    "                    xy=(rect.get_x() + rect.get_width() / 2, height),\n",
    "                    xytext=(0, 3),  # 3 points vertical offset\n",
    "                    textcoords=\"offset points\",\n",
    "                    ha='center', va='bottom')\n",
    "\n",
    "add_labels(rects1)\n",
    "add_labels(rects2)\n",
    "\n",
    "plt.tight_layout()\n",
    "plt.show()"
   ]
  },
  {
   "cell_type": "code",
   "execution_count": null,
   "id": "7f2e5d36-6118-4f47-8875-16d064a638fe",
   "metadata": {},
   "outputs": [],
   "source": []
  }
 ],
 "metadata": {
  "kernelspec": {
   "display_name": "Python 3 (ipykernel)",
   "language": "python",
   "name": "python3"
  },
  "language_info": {
   "codemirror_mode": {
    "name": "ipython",
    "version": 3
   },
   "file_extension": ".py",
   "mimetype": "text/x-python",
   "name": "python",
   "nbconvert_exporter": "python",
   "pygments_lexer": "ipython3",
   "version": "3.10.12"
  }
 },
 "nbformat": 4,
 "nbformat_minor": 5
}
