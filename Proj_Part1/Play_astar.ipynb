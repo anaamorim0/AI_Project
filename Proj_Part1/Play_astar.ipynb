{
 "cells": [
  {
   "cell_type": "markdown",
   "id": "3e9d2d03-9f69-46c8-8c06-367020353661",
   "metadata": {},
   "source": [
    "# Play do A*"
   ]
  },
  {
   "cell_type": "code",
   "execution_count": null,
   "id": "8ea0acd2-16a5-4f41-b5c0-812b96d4bd09",
   "metadata": {},
   "outputs": [],
   "source": [
    "%run \"./Astar.ipynb\""
   ]
  },
  {
   "cell_type": "code",
   "execution_count": null,
   "id": "b8603a65-2a50-4fd7-b467-b9e262bd1b27",
   "metadata": {},
   "outputs": [],
   "source": [
    "%run \"./ConnectFour.ipynb\""
   ]
  },
  {
   "cell_type": "markdown",
   "id": "ef53a0e3-9718-433d-9e28-333c2465f391",
   "metadata": {},
   "source": [
    "Precisamos de uma função, que implementa o jogo do Connect4 (user vs A*) utilizando as classes definidas anteriormente."
   ]
  },
  {
   "cell_type": "markdown",
   "id": "1a1ca9be-41cd-48f0-877f-18c095f121fd",
   "metadata": {},
   "source": [
    "Primeiro criamos uma instância da classe __ConnectFour__ e um novo tabuleiro usando o método __create_board__ da classe ConnectFour().\n",
    "\n",
    "Enquanto o jogo não terminar, imprime-se o estado atual do tabuleiro e pede-se ao user que diga um nº de uma coluna para colocar a sua peça. Verifica-se se a coluna é válida usando o método __is_valid_column__ da classe __ConnectFour__ e com a função __empty_row__ da classe __ConnectFour__ procura-se a linha onde deve ser colocada a peça. A função __drop_token__ também da classe __ConnectFour__ coloca a peça na célula correta.\n",
    "Depois verifica-se se o user ganhou com o método __win__ da classe __ConnectFour__ e se sim anuncia-se e o jogo acaba. Senão, vê-se se o tabuleiro está completo. Se estiver, o jogo anuncia um empate.\n",
    "\n",
    "Implementando o método __astar__ da classe Astar, o algoritmo decide a sua jogada. Se o resultado for None significa que o tabuleiro está completo.\n",
    "\n",
    "col_O obtém a coluna escolhida pelo algoritmo e row_O obtém a linha vazia onde a peça deve ser colocada. A peça é colocada no local correto e verifica-se se o algoritmo venceu e se o tabuleiro está completo.\n",
    "\n",
    "Por fim __play()__ chama a função para iniciar o jogo."
   ]
  },
  {
   "cell_type": "code",
   "execution_count": null,
   "id": "ccd5d812-57bf-4b1d-8720-db3a53d6535c",
   "metadata": {},
   "outputs": [],
   "source": [
    "from connect4 import ConnectFour\n",
    "from astar import Astar\n",
    "\n",
    "def play():\n",
    "\n",
    "    connect_four = ConnectFour()\n",
    "    board = connect_four.create_board()\n",
    "\n",
    "    while True:\n",
    "        connect_four.print_board(board)\n",
    "        while True:\n",
    "            try:\n",
    "                col_X = int(input(\"Escolhe uma coluna entre 0 e 6: \"))\n",
    "                if 0 <= col_X < connect_four.COLUMNS:\n",
    "                    if connect_four.is_valid_column(board, col_X):\n",
    "                        break\n",
    "                    else:\n",
    "                        print(\"Esta coluna está completa! Tenta outra vez.\")\n",
    "                else:\n",
    "                    print(\"Esta coluna é inválida! Tenta outra vez.\")\n",
    "            except ValueError:\n",
    "                print(\"Esta entrada é inválida! Por favor, escolhe uma coluna de 0 a 6:\")\n",
    "\n",
    "        row_X = connect_four.empty_row(board, col_X)\n",
    "        connect_four.drop_token(board, row_X, col_X, connect_four.PLAYER_X)\n",
    "\n",
    "        if connect_four.win(board, connect_four.PLAYER_X):\n",
    "            connect_four.print_board(board)\n",
    "            print(\"O jogador X ganhou!!!\")\n",
    "            break\n",
    "\n",
    "        if connect_four.complete():\n",
    "            connect_four.print_board(board)\n",
    "            print(\"Empate\")\n",
    "            break\n",
    "\n",
    "\n",
    "        res = Astar.astar(board, True)\n",
    "\n",
    "        if res is None:\n",
    "            print(\"O tabuleiro está completo.\")\n",
    "            break\n",
    "\n",
    "        col_O = res.move\n",
    "        row_O = connect_four.empty_row(board, col_O)\n",
    "        connect_four.drop_token(board, row_O, col_O, connect_four.PLAYER_O)\n",
    "\n",
    "        if connect_four.win(board, connect_four.PLAYER_O):\n",
    "            connect_four.print_board(board)\n",
    "            print(\"O jogador O ganhou!!!\")\n",
    "            break\n",
    "\n",
    "        if connect_four.complete():\n",
    "            connect_four.print_board(board)\n",
    "            print(\"Empate\")\n",
    "            break\n",
    "\n",
    "if __name__ == \"__main__\":\n",
    "    play()"
   ]
  }
 ],
 "metadata": {
  "kernelspec": {
   "display_name": "Python 3 (ipykernel)",
   "language": "python",
   "name": "python3"
  },
  "language_info": {
   "codemirror_mode": {
    "name": "ipython",
    "version": 3
   },
   "file_extension": ".py",
   "mimetype": "text/x-python",
   "name": "python",
   "nbconvert_exporter": "python",
   "pygments_lexer": "ipython3",
   "version": "3.10.12"
  }
 },
 "nbformat": 4,
 "nbformat_minor": 5
}
