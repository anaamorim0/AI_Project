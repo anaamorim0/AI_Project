{
 "cells": [
  {
   "cell_type": "markdown",
   "id": "3e8b8b78-6551-4258-a348-d0d776ac15d1",
   "metadata": {},
   "source": [
    "# Classe ConnectFour do MCTS"
   ]
  },
  {
   "cell_type": "markdown",
   "id": "522471f8-c23f-4b4f-b30d-598c4bec5e4a",
   "metadata": {},
   "source": [
    "Criamos a classe ConnectFour:"
   ]
  },
  {
   "cell_type": "markdown",
   "id": "ce6434d3-4d0d-45c5-9faa-5d63685531ef",
   "metadata": {},
   "source": [
    "De seguida, criamos o construtor __init__ que contém os seguintes atributos:\n",
    "- self.EMPTY -> que define o carater que representa uma célula vazia no tabuleiro\n",
    "- self.PLAYER_X -> que define o carater que representa as peças do jogador\n",
    "- self.PLAYER_O -> que define o carater que representa as peças do algoritmo\n",
    "- self.ROWS -> que define o nº de linhas do tabuleiro\n",
    "- self.COLUMNS -> que define o nº de colunas do tabuleiro\n",
    "- self.board -> que inicializa o tabuleiro como uma lista, onde cada célula é representada por '-'\n",
    "- self.to_play -> que controla qual o jogador que deve jogar a peça seguinte\n",
    "- self.resultado -> que define um dicionário que mapeia dos resultados possíveis do jogo para valores numéricos\n",
    "- self.height -> que inicializa uma lista que vai ser usada para acompanhar a altura de cada coluna do tabuleiro\n",
    "- self.WIN -> que define o nº de peças consecutivas necessárias para ganhar"
   ]
  },
  {
   "cell_type": "code",
   "execution_count": null,
   "id": "dcb19f3e-33b5-4c98-8968-7e229785fee2",
   "metadata": {},
   "outputs": [],
   "source": [
    "class ConnectFour:\n",
    "    def __init__(self):\n",
    "        self.EMPTY = '-'\n",
    "        self.PLAYER_X = 'X'\n",
    "        self.PLAYER_O = 'O'\n",
    "        self.ROWS = 6\n",
    "        self.COLUMNS = 7\n",
    "        self.board = self.board = [['-' for _ in range(7)] for _ in range(6)]\n",
    "        self.to_play = self.PLAYER_X\n",
    "        self.resultado = {'empate':3, 'PLAYER_X':1, 'PLAYER_O':2}\n",
    "        self.height = [self.ROWS - 1] * self.COLUMNS\n",
    "        self.WIN = 4"
   ]
  },
  {
   "cell_type": "markdown",
   "id": "3613bc4f-6aaa-4af7-8ff7-d075eb3bb35a",
   "metadata": {},
   "source": [
    "Criamos também a função print_board que imprime o tabuleiro."
   ]
  },
  {
   "cell_type": "code",
   "execution_count": null,
   "id": "714f6228-a149-4733-971e-8a1b88039c39",
   "metadata": {},
   "outputs": [],
   "source": [
    "    def print_board(self, board):\n",
    "        for linha in board:\n",
    "            linha_formatada = \"\"\n",
    "            for elemento in linha:\n",
    "                linha_formatada += elemento + \" \"\n",
    "            print(linha_formatada)"
   ]
  },
  {
   "cell_type": "markdown",
   "id": "c7efd20e-a445-4c4d-9017-d616d79d9c40",
   "metadata": {},
   "source": [
    "A função win verifica se um jogador ganhou.\n",
    "Esta função verifica se existem 3 peças iguais consecutivas na horizontal, vertical, diagonal descendente e diagonal ascendente, respetivamente."
   ]
  },
  {
   "cell_type": "code",
   "execution_count": null,
   "id": "ae281045-c679-42bf-adb4-a29393ac9d29",
   "metadata": {},
   "outputs": [],
   "source": [
    "    def win(self, board, token):\n",
    "        for r in range(self.ROWS):\n",
    "            for c in range(self.COLUMNS - 3):\n",
    "                if board[r][c] == token and board[r][c+1] == token and board[r][c+2] == token and board[r][c+3] == token:\n",
    "                    return True\n",
    "\n",
    "        for r in range(self.ROWS - 3):\n",
    "            for c in range(self.COLUMNS):\n",
    "                if board[r][c] == token and board[r+1][c] == token and board[r+2][c] == token and board[r+3][c] == token:\n",
    "                    return True\n",
    "\n",
    "        for r in range(self.ROWS - 3):\n",
    "            for c in range(self.COLUMNS - 3):\n",
    "                if board[r][c] == token and board[r+1][c+1] == token and board[r+2][c+2] == token and board[r+3][c+3] == token:\n",
    "                    return True\n",
    "\n",
    "        for r in range(self.ROWS - 3):\n",
    "            for c in range(3, self.COLUMNS):\n",
    "                if board[r][c] == token and board[r+1][c-1] == token and board[r+2][c-2] == token and board[r+3][c-3] == token:\n",
    "                    return True\n",
    "\n",
    "        return False"
   ]
  },
  {
   "cell_type": "markdown",
   "id": "ed2181a1-3efb-4a90-9fb5-28bcacc2b30a",
   "metadata": {},
   "source": [
    "Criamos também a função move que recebe a coluna que o jogador selecionou e coloca lá a sua peça.\n",
    "\n",
    "Primeiro coloca a peça na posição adequada do tabuleiro. A posição é determinada pela linha mais alta disponível na coluna desejada.\n",
    "Depois atualiza a variável self.last_played para armazenar a última jogada feita.\n",
    "A seguir, atualiza a altura da coluna em que a jogada foi feita.\n",
    "E por fim, alterna o jogador que vai jogar a seguir."
   ]
  },
  {
   "cell_type": "code",
   "execution_count": null,
   "id": "918e86d9-d273-4a2a-909f-142e900bc4c9",
   "metadata": {},
   "outputs": [],
   "source": [
    "    def move(self, col):\n",
    "        self.board[self.height[col]][col] = self.to_play\n",
    "        self.last_played = [self.height[col], col]\n",
    "        self.height[col] -= 1\n",
    "        self.to_play = self.PLAYER_O if self.to_play == self.PLAYER_X else self.PLAYER_X"
   ]
  },
  {
   "cell_type": "markdown",
   "id": "da9da9a3-3713-4dd3-80b5-910393a093e7",
   "metadata": {},
   "source": [
    "A função seguinte, retorna uma lista de colunas onde é possivel jogar."
   ]
  },
  {
   "cell_type": "code",
   "execution_count": null,
   "id": "22caf50b-43b4-4ccd-ab94-d5c151a4e447",
   "metadata": {},
   "outputs": [],
   "source": [
    "    def get_legal_moves(self):\n",
    "        return [col for col in range(self.COLUMNS) if self.board[0][col] == self.EMPTY]"
   ]
  },
  {
   "cell_type": "markdown",
   "id": "c8761e3d-9b3f-415d-81cb-d25396097add",
   "metadata": {},
   "source": [
    "A função check_win verifica se o jogador venceu após a sua jogada.\n",
    "Verifica se a lista self.last_played contém alguma informação e verifica se o jogador X ou o jogador Y venceram. Se isto acontecer, retorna a ultima peça jogada com a ajuda do self.last_played."
   ]
  },
  {
   "cell_type": "code",
   "execution_count": null,
   "id": "6b031afc-68ce-4a88-b852-6129d619a7e1",
   "metadata": {},
   "outputs": [],
   "source": [
    "    def check_win(self):\n",
    "        if len(self.last_played) > 0 and (self.win(self.board, self.PLAYER_X) or self.win(self.board, self.PLAYER_O)):\n",
    "            return self.board[self.last_played[0]][self.last_played[1]]\n",
    "        return 0"
   ]
  },
  {
   "cell_type": "markdown",
   "id": "13d33463-718a-447c-a349-79a717670e5c",
   "metadata": {},
   "source": [
    "A função game_over verifica se o jogo terminou.\n",
    "Ve se o jogador X venceu, se o jogador Y venceu e se o tabuleiro está completo. Se alguma destas acontecer retorna True."
   ]
  },
  {
   "cell_type": "code",
   "execution_count": null,
   "id": "c734906b-2d9a-4115-8db0-157d1ecac0bd",
   "metadata": {},
   "outputs": [],
   "source": [
    "    def game_over(self):\n",
    "        if self.win(self.board, self.PLAYER_X) or self.win(self.board, self.PLAYER_O) or self.complete()==True:\n",
    "            return True\n",
    "        return"
   ]
  },
  {
   "cell_type": "markdown",
   "id": "c411cff1-2d10-4e85-ac80-ebb79ca22d84",
   "metadata": {},
   "source": [
    "Criamos a função get_outcome que determina o resultado final do jogo.\n",
    "Verifica se ninguem ganhou e se não existem mais movimentos possiveis e se isto for verdade retorna um empate, senao verifica qual dos jogadores é que ganhou."
   ]
  },
  {
   "cell_type": "code",
   "execution_count": null,
   "id": "715438ed-9392-4c12-8dbb-041a862d38c0",
   "metadata": {},
   "outputs": [],
   "source": [
    "    def get_outcome(self):\n",
    "        if len(self.get_legal_moves()) == 0 and self.check_win() == 0:\n",
    "            return self.resultado['empate']\n",
    "\n",
    "        return self.resultado['PLAYER_X'] if self.check_win() == self.resultado['PLAYER_X'] else self.resultado['PLAYER_O']"
   ]
  },
  {
   "cell_type": "markdown",
   "id": "a7a5575f-6c24-4bbb-81aa-3d795cf9a293",
   "metadata": {},
   "source": [
    "Por fim, a função complete veridica se o tabuleiro está completo.\n",
    "Começa por criar uma cópia do tabuleiro, e verifica se para cada linha, as células estão vazias. Se encontrar pelo menos uma célula vazia significa que não está completo"
   ]
  },
  {
   "cell_type": "code",
   "execution_count": null,
   "id": "55fcbb73-a752-4683-ac40-d7ad5d21c4db",
   "metadata": {},
   "outputs": [],
   "source": [
    "    def complete(self):\n",
    "        board = self.board\n",
    "        for row in board:\n",
    "            for cell in row:\n",
    "                if cell == self.EMPTY:\n",
    "                    return False\n",
    "        return True"
   ]
  }
 ],
 "metadata": {
  "kernelspec": {
   "display_name": "Python 3 (ipykernel)",
   "language": "python",
   "name": "python3"
  },
  "language_info": {
   "codemirror_mode": {
    "name": "ipython",
    "version": 3
   },
   "file_extension": ".py",
   "mimetype": "text/x-python",
   "name": "python",
   "nbconvert_exporter": "python",
   "pygments_lexer": "ipython3",
   "version": "3.10.12"
  }
 },
 "nbformat": 4,
 "nbformat_minor": 5
}
