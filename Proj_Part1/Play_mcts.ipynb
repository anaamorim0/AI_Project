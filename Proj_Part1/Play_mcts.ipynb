{
 "cells": [
  {
   "cell_type": "markdown",
   "id": "64995e3c-8ea5-4434-b142-4febe2cddb15",
   "metadata": {},
   "source": [
    "# Play do MCTS"
   ]
  },
  {
   "cell_type": "code",
   "execution_count": null,
   "id": "f8e9d3d8-82a9-423e-9559-59bf95c7d3c8",
   "metadata": {},
   "outputs": [],
   "source": [
    "%run \"./Connect4_mcts.ipynb\""
   ]
  },
  {
   "cell_type": "code",
   "execution_count": null,
   "id": "a91981ba-095c-4b7e-a6bc-e23c3d272e3e",
   "metadata": {},
   "outputs": [],
   "source": [
    "%run \"./Mcts.ipynb\""
   ]
  },
  {
   "cell_type": "markdown",
   "id": "7e7f42ad-aaad-48ef-98f9-532542f23178",
   "metadata": {},
   "source": [
    "Precisamos de uma função, que implementa o jogo do Connect4 (user vs MCTS*) utilizando as classes definidas anteriormente.\n",
    "\n",
    "Primeiro criamos uma instância da classe __ConnectFour__ e uma instância da classe __MCTS__ passando o estado atual do jogo como parâmetro.\n",
    "\n",
    "Enquanto o jogo não terminar, imprime-se o estado atual do tabuleiro e pede-se ao user que diga o nº de uma coluna para colocar a sua peça. Verifica-se se a coluna escolhida pelo jogador é valida e se não o for pede-se ao jogador que escolha outra coluna. Coloca-se a peça no tabuleiro conforme a coluna escolhida pelo user e informa-se o algoritmo __MCTS__ sobre a jogada feita pelo user.\n",
    "Verifica-se se o jogo acabou. Se não tiver acabado, o __MCTS__ procura a melhor jogada possível através da função __search__ desta classe.\n",
    "De seguida, obtém-se estatíssticas sobre a procura realizada, incluindo o nº de simulações feitas e o tempo de execução.\n",
    "Por fim, realiza-se a melhor jogada obtida pelo algoritmo __MCTS__ e verifica-se se o jogo terminou.\n",
    "O jogo termina quando um dos jogadores ganha ou quando o tabuleiro está completo."
   ]
  },
  {
   "cell_type": "code",
   "execution_count": null,
   "id": "8ff622ce-a910-4ea2-a758-10e90c9e48a7",
   "metadata": {},
   "outputs": [],
   "source": [
    "from connect4 import ConnectFour\n",
    "from mcts import MCTS\n",
    "\n",
    "def play():\n",
    "    state = ConnectFour()\n",
    "    mcts = MCTS(state)\n",
    "\n",
    "    while not state.game_over():\n",
    "        state.print_board(state.board)\n",
    "\n",
    "        user_move = int(input(\"Escolhe uma coluna entre 0 e 6: \"))\n",
    "        while user_move not in state.get_legal_moves():\n",
    "            print(\"Esta coluna é inválida! Tenta outra vez.\")\n",
    "            user_move = int(input(\"Escolhe uma coluna entre 0 e 6: \"))\n",
    "\n",
    "        state.move(user_move)\n",
    "        mcts.move(user_move)\n",
    "\n",
    "        state.print_board(state.board)\n",
    "\n",
    "        if state.game_over():\n",
    "            print(\"O jogador X ganhou!!!\")\n",
    "            break\n",
    "\n",
    "\n",
    "        mcts.search(1)\n",
    "        num_rollouts, run_time = mcts.statistics()\n",
    "        print(\"Estatistica: \", num_rollouts, \"rollouts em\", run_time, \"segundos\")\n",
    "        move = mcts.best_move()\n",
    "\n",
    "        state.move(move)\n",
    "        mcts.move(move)\n",
    "\n",
    "        if state.game_over():\n",
    "            state.print_board(state.board)\n",
    "            print(\"O jogador O ganhou!!!\")\n",
    "            break\n",
    "\n",
    "\n",
    "if __name__ == \"__main__\":\n",
    "    play()"
   ]
  }
 ],
 "metadata": {
  "kernelspec": {
   "display_name": "Python 3 (ipykernel)",
   "language": "python",
   "name": "python3"
  },
  "language_info": {
   "codemirror_mode": {
    "name": "ipython",
    "version": 3
   },
   "file_extension": ".py",
   "mimetype": "text/x-python",
   "name": "python",
   "nbconvert_exporter": "python",
   "pygments_lexer": "ipython3",
   "version": "3.10.12"
  }
 },
 "nbformat": 4,
 "nbformat_minor": 5
}
