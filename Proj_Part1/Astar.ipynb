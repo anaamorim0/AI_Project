{
 "cells": [
  {
   "cell_type": "markdown",
   "id": "4bba8c08-ada2-471d-ac2c-ae31fb3858f2",
   "metadata": {},
   "source": [
    "# Algoritmo A*"
   ]
  },
  {
   "cell_type": "markdown",
   "id": "5bf1175e-2a6d-4933-a114-99d7e7cc869f",
   "metadata": {},
   "source": [
    "Precisamos de importar a classe ConnectFour do ficheiro connect4.py"
   ]
  },
  {
   "cell_type": "code",
   "execution_count": null,
   "id": "e484721c-b2ab-4cf4-8700-329ea666b3ba",
   "metadata": {},
   "outputs": [],
   "source": [
    "from connect4 import ConnectFour"
   ]
  },
  {
   "cell_type": "markdown",
   "id": "f14ad8c4-a38c-4cb4-9145-1046640453e5",
   "metadata": {},
   "source": [
    "Criamos a classe Astar:"
   ]
  },
  {
   "cell_type": "markdown",
   "id": "9bb5e240-3417-4bb4-a8b2-3a0eb77bc9da",
   "metadata": {},
   "source": [
    "De seguida criamos a função __evaluate__ que recebe um segmento do tabuleiro (linha, coluna ou diagonal) e retorna duas pontuações: uma para o jogador e outra para o seu oponente (neste caso, o algoritmo A*)\n",
    "\n",
    "Inicialmente a função verifica se o segmento tem um comprimento de pelo menos 4 células e se tem 3 X's consecutivos. Se isto se verificar incrementa a pontuação em 100 pontos. Isto foi uma forma de tentar otimizar o algoritmo dando prioridade a situações em que o jogador X está prestes a ganhar.\n",
    "\n",
    "__player_count__, __opponent_count__ e __empty_count__: contam o número de peças do jogador atual, do oponente e de espaços vazios no segmento do tabuleiro fornecido.\n",
    "\n",
    "Tendo em conta os contadores, são atribuidas pontuações de acordo com as seguintes condições:\n",
    "- Se tiver 4 peças em linha, adiciona 512\n",
    "- Se tiver 3 peças em linha e 1 célula vazia, adiciona 50\n",
    "- Se tiver 2 peças em linha e 2 células vazias, adiciona 10\n",
    "- Se tiver 1 peça e 3 células vazias, adiciona 1\n",
    "- Caso contrário não altera a pontuação\n",
    "\n",
    "Para o oponente, segue a mesma lógica mas vai subtraindo em vez de somar."
   ]
  },
  {
   "cell_type": "code",
   "execution_count": null,
   "id": "fb73bb71-d204-4522-a7be-2dc1b026610b",
   "metadata": {},
   "outputs": [],
   "source": [
    "class Astar:\n",
    "    \n",
    "    def evaluate(segment, player):\n",
    "        score = 0\n",
    "\n",
    "        if len(segment) >= 4 and Astar.check_three_xs(segment, ConnectFour().PLAYER_X):\n",
    "            score += 100\n",
    "\n",
    "        player_count = 0\n",
    "        opponent_count = 0\n",
    "        empty_count = 0\n",
    "\n",
    "        for token in segment:\n",
    "            if token == ConnectFour().PLAYER_X:\n",
    "                player_count += 1\n",
    "            elif token == ConnectFour().PLAYER_O:\n",
    "                opponent_count += 1\n",
    "            elif token == ConnectFour().EMPTY:\n",
    "                empty_count += 1\n",
    "\n",
    "        if player_count == 4:\n",
    "            score += 512\n",
    "        elif player_count == 3 and empty_count == 1:\n",
    "            score += 50\n",
    "        elif player_count == 2 and empty_count == 2:\n",
    "            score += 10\n",
    "        elif player_count == 1 and empty_count == 3:\n",
    "            score += 1\n",
    "        else:\n",
    "            score += 0\n",
    "\n",
    "        if opponent_count == 4:\n",
    "            score -= 512\n",
    "        elif opponent_count == 3 and empty_count == 1:\n",
    "            score -= 50\n",
    "        elif opponent_count == 2 and empty_count == 2:\n",
    "            score -= 10\n",
    "        elif opponent_count == 1 and empty_count == 3:\n",
    "            score -= 1\n",
    "        else:\n",
    "            score -= 0\n",
    "\n",
    "        return score"
   ]
  },
  {
   "cell_type": "markdown",
   "id": "5fbab018-094f-484d-935a-987fccc12364",
   "metadata": {},
   "source": [
    "Criamos também uma função __heuristic__, que calcula a heurística para uma dada configuração do tabuleiro. A heurística consiste numa avaliação do quão favorável é uma posição para um jogador, sem examinar todas as jogadas futuras possíveis.\n",
    "\n",
    "Voltamos a verificar a existência de 3 X's consecutivos como forma de garantir que ambos os métodos estão alinhados e usam a mesma lógica, tornando o algoritmo mais eficiente.\n",
    "\n",
    "Depois chama-se a função __evaluate__ de forma a se avaliar os segmentos horizontais, verticais e diagonais(crescentes e decrescentes) do tabuleiro, respetivamente.\n",
    "Vamos subtraindo 3 ao nº de linhas e colunas, pois são precisas 4 peças consecutivas para ganhar e assim evita-se passar os limites do tabuleiro."
   ]
  },
  {
   "cell_type": "code",
   "execution_count": null,
   "id": "b08f0176-d893-4f2a-9709-d1b830f2fb0f",
   "metadata": {},
   "outputs": [],
   "source": [
    "    def heuristic(board):\n",
    "        score = 0\n",
    "\n",
    "        if Astar.check_three_xs(board, ConnectFour().PLAYER_X):\n",
    "            score += 100\n",
    "\n",
    "        for row in range(ConnectFour().ROWS):\n",
    "            for col in range(ConnectFour().COLUMNS - 3):\n",
    "                segment = board[row][col:col+4]\n",
    "                score += Astar.evaluate(segment, ConnectFour().PLAYER_X)\n",
    "\n",
    "        for row in range(ConnectFour().ROWS - 3):\n",
    "            for col in range(ConnectFour().COLUMNS):\n",
    "                segment = [board[row+i][col] for i in range(4)]\n",
    "                score += Astar.evaluate(segment, ConnectFour().PLAYER_X)\n",
    "\n",
    "        for row in range(ConnectFour().ROWS - 3):\n",
    "            for col in range(ConnectFour().COLUMNS - 3):\n",
    "                segment = [board[row+i][col+i] for i in range(4)]\n",
    "                score += Astar.evaluate(segment, ConnectFour().PLAYER_X)\n",
    "\n",
    "        for row in range(ConnectFour().ROWS - 3):\n",
    "            for col in range(ConnectFour().COLUMNS - 3, -1, -1):\n",
    "                segment = [board[row+i][col-i] for i in range(4)]\n",
    "                score += Astar.evaluate(segment, ConnectFour().PLAYER_X)\n",
    "\n",
    "        return score"
   ]
  },
  {
   "cell_type": "markdown",
   "id": "630b5809-6304-4764-a996-f2779cce5a2a",
   "metadata": {},
   "source": [
    "Seguidamente, precisamos de criar uma classe __Node__ que é utilizada para representar nós, que são necessários para explorar o espaço de busca de forma eficiente, selecionando os nós que devem ser explorados a seguir.\n",
    "\n",
    "A função __init__ é o construtor da classe que contém os seguintes atributos:\n",
    "- board -> que representa o estado do tabuleiro associado a este nó\n",
    "- parent -> que representa o nó pai deste nó no espaço de busca\n",
    "- move -> que representa a ação que levou o estado do tabuleiro atual a partir do estado do tabuleiro do nó pai\n",
    "- g -> que representa o custo acumulado para chegar a este nó a partir do nó inicial\n",
    "- h -> que representa a heurística estimada para chegar ao objetivo a partir deste nó\n",
    "- f -> que representa a soma dos custos (g + h)\n",
    "\n",
    "O método def __eq__(self, other) compara os tabuleiros dos nós para determinar se são iguais e o método def __hash__(self) gera um hash baseado na representação do tabuleiro como uma string."
   ]
  },
  {
   "cell_type": "code",
   "execution_count": null,
   "id": "03cd7545-5500-46b5-b420-1b4ffc73464e",
   "metadata": {},
   "outputs": [],
   "source": [
    "    class Node:\n",
    "        def __init__(self, board, parent, move, g=0, h=0, f=0):\n",
    "            self.board = board\n",
    "            self.parent = parent\n",
    "            self.move = move\n",
    "            self.g = g\n",
    "            self.h = h\n",
    "            self.f = f\n",
    "\n",
    "        def __eq__(self, other):\n",
    "            return self.board == other.board\n",
    "\n",
    "\n",
    "        def __hash__(self):\n",
    "            return hash(str(self.board))"
   ]
  },
  {
   "cell_type": "markdown",
   "id": "38ec25bd-34d6-46e1-a45e-ae95b8789633",
   "metadata": {},
   "source": [
    "Depois, criamos a função __astar__ que implementa o algoritmo A* e retorna o nó correspondente ao melhor caminho encontrado.\n",
    "\n",
    "Primeiro criamos um nó inicial com o tabuleiro fornecido, que não tem um nó pai uma vez que é o nó inicial e nenhuma ação pois é o inicio da pesquisa.\n",
    "De seguida, criamos um conjunto __open_nodes__ que inicialmente contém o nó inicial, e onde vão ser adicionados os nós a serem explorados pelo algoritmo.\n",
    "O conjunto __closed_nodes__, é um conjunto vazio que vai armazenar os nós que já foram explorados.\n",
    "\n",
    "Enquanto houverem nós para ser explorados, a variável __lowest_f__ vai procurar o nó com o menor valor de f. À medida que isto vai acontecendo os nós vão sendo removidos do conjunto __open_nodes__ e vão sendo adicionados ao __closed_nodes__, pois já foram explorados.\n",
    "\n",
    "Posteriormente, verifica-se se o estado atual do tabuleiro contém uma posição vencedora. Se sim, retorna-se o nó atual, que representa o melhor caminho encontrado até agora.\n",
    "\n",
    "Usando a função __create_child__, verifica-se se algum nó filho é igual a algum nó já explorado e se isto acontecer, esse nó filho é adicionado ao conjunto dos nós já explorados."
   ]
  },
  {
   "cell_type": "code",
   "execution_count": null,
   "id": "6d2fc4af-93df-4ac1-9666-dd269a955dae",
   "metadata": {},
   "outputs": [],
   "source": [
    "    def astar(board, player):\n",
    "        initial = Astar.Node(board, None, None)\n",
    "        open_nodes = {initial}\n",
    "        closed_nodes = set()\n",
    "\n",
    "        while open_nodes:\n",
    "\n",
    "            lowest_f = float('inf')\n",
    "            for node in open_nodes:\n",
    "                if node.f < lowest_f:\n",
    "                    lowest_f = node.f\n",
    "                    current = node\n",
    "\n",
    "            open_nodes.remove(current)\n",
    "            closed_nodes.add(current)\n",
    "\n",
    "            if ConnectFour().win(current.board, ConnectFour().PLAYER_O if player else ConnectFour().PLAYER_X):\n",
    "                return current\n",
    "\n",
    "            for child in Astar.create_child(current, player):\n",
    "                explored = False\n",
    "\n",
    "                for node in closed_nodes:\n",
    "                    if child == node:\n",
    "                        explored = True\n",
    "                        break\n",
    "\n",
    "                if not explored:\n",
    "                    open_nodes.add(child)\n",
    "\n",
    "        return None"
   ]
  },
  {
   "cell_type": "markdown",
   "id": "b3b60bdb-64a1-4d2a-8248-a50fcd4fee9c",
   "metadata": {},
   "source": [
    "A função __create_child__ é responsável por gerar os nós filhos a partir de um nó pai.\n",
    "\n",
    "Primeiro, inicializamos uma lista vazia para armazenar os nós filhos que vão ser gerados (__children__) e outra para armazenar os movimentos que podem ser feitos a partir do estado em que está o tabuleiro (__valid_moves__).\n",
    "\n",
    "Percorre-se todas as colunas do tabuleiro e utilizando a função __is_valid_column__ da classe ConnectFour, vão-se adicionando á lista valid_moves os movimentos que são possíveis. Com isto e usando a função __empty_row__ da classe ConnectFour determina-se a linha onde a peça deve ser inserida.\n",
    "Cria-se uma cópia do tabuleiro do nó pai e a peça é inserida na posição determinada anteriormente.\n",
    "\n",
    "Depois, verifica-se o seguinte:\n",
    "- se for a vez do jogador atual e ele tem a oportunidade de ganhar ao inserir uma peça na posição seguinte então é gerado um nó filho que representa essa possível vitória.\n",
    "- se for a vez do oponente e não for permitido que o oponente ganhe na próxima jogada, então não é gerado um nó filho.\n",
    "\n",
    "Caso contrário, um nó filho é gerado para representar o estado do tabuleiro após o movimento.\n",
    "\n",
    "Os custos g,h e f do nó filho são atualizados com base no nó pai e na heurística do novo estado do tabuleiro.\n",
    "\n",
    "Por fim, o nó filho é adicionado á lista de nós filhos."
   ]
  },
  {
   "cell_type": "code",
   "execution_count": null,
   "id": "0c3d1f8b-f368-4eb8-a9d8-0b769e458316",
   "metadata": {},
   "outputs": [],
   "source": [
    "    def create_child(node, player):\n",
    "        children = []\n",
    "        valid_moves = []\n",
    "\n",
    "        for col in range(ConnectFour().COLUMNS):\n",
    "            if ConnectFour().is_valid_column(node.board, col):\n",
    "                valid_moves.append(col)\n",
    "\n",
    "        for col in valid_moves:\n",
    "            row = ConnectFour().empty_row(node.board, col)\n",
    "            new_board = ConnectFour().copy_board(node.board)\n",
    "            ConnectFour().drop_token(new_board, row, col, ConnectFour().PLAYER_O if player else ConnectFour().PLAYER_X)\n",
    "\n",
    "            if player and Astar.check_three_xs(new_board, ConnectFour().PLAYER_O):\n",
    "                next_row = ConnectFour().empty_row(new_board, col)\n",
    "                next_new_board = ConnectFour().copy_board(new_board)\n",
    "                if next_row < ConnectFour().ROWS - 1:\n",
    "                    ConnectFour().drop_token(next_new_board, next_row + 1, col, ConnectFour().PLAYER_O)\n",
    "                    if not Astar.check_three_xs(next_new_board, ConnectFour().PLAYER_O):\n",
    "                        new_node = Astar.Node(next_new_board, node, col)\n",
    "                        new_node.g = node.g + 1\n",
    "                        new_node.h = Astar.heuristic(next_new_board)\n",
    "                        new_node.f = new_node.g + new_node.h\n",
    "                        children.append(new_node)\n",
    "\n",
    "            elif not player and Astar.check_three_xs(new_board, ConnectFour().PLAYER_X):\n",
    "                continue\n",
    "\n",
    "            else:\n",
    "                new_node = Astar.Node(new_board, node, col)\n",
    "                new_node.g = node.g + 1\n",
    "                new_node.h = Astar.heuristic(new_board)\n",
    "                new_node.f = new_node.g + new_node.h\n",
    "                children.append(new_node)\n",
    "\n",
    "        return children"
   ]
  },
  {
   "cell_type": "markdown",
   "id": "75c323c4-8bd6-428a-97d6-d2a5c5c710ae",
   "metadata": {},
   "source": [
    "Por fim, criamos a função __check_three_xs__ que verifica se há três peças consecutivas do mesmo jogador, como forma de otimizar o algoritmo. Ou seja, quando o jogador_X está perto de ganhar o jogador_Y deve tentar impedi-lo. "
   ]
  },
  {
   "cell_type": "code",
   "execution_count": null,
   "id": "ac90ddaa-9f48-4781-8f0c-c1996147cb86",
   "metadata": {},
   "outputs": [],
   "source": [
    "    def check_three_xs(board, player):\n",
    "\n",
    "        for row in range(len(board) - 3):\n",
    "            for col in range(len(board[row]) - 3):\n",
    "                if board[row][col] == player and board[row+1][col+1] == player and board[row+2][col+2] == player and board[row+3][col+3] == player:\n",
    "                    return True\n",
    "\n",
    "        for row in range(len(board)):\n",
    "            for col in range(len(board[row]) - 3):\n",
    "                if board[row][col] == player and board[row][col+1] == player and board[row][col+2] == player and board[row][col+3] == player:\n",
    "                    return True\n",
    "\n",
    "        return False"
   ]
  }
 ],
 "metadata": {
  "kernelspec": {
   "display_name": "Python 3 (ipykernel)",
   "language": "python",
   "name": "python3"
  },
  "language_info": {
   "codemirror_mode": {
    "name": "ipython",
    "version": 3
   },
   "file_extension": ".py",
   "mimetype": "text/x-python",
   "name": "python",
   "nbconvert_exporter": "python",
   "pygments_lexer": "ipython3",
   "version": "3.10.12"
  }
 },
 "nbformat": 4,
 "nbformat_minor": 5
}
