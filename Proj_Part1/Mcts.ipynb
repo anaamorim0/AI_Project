{
 "cells": [
  {
   "cell_type": "markdown",
   "id": "57a33fbf-9dca-49a4-98d0-df3ba10458c7",
   "metadata": {},
   "source": [
    "# Algoritmo MCTS"
   ]
  },
  {
   "cell_type": "markdown",
   "id": "436d1874-3c88-427b-979d-309b8c5efff2",
   "metadata": {},
   "source": [
    "Precisamos de importar os seguintes modulos: random, time, mathe e deepcopy, bem como a classe ConnectFour do ficheiro connect4.py."
   ]
  },
  {
   "cell_type": "code",
   "execution_count": null,
   "id": "6030edba-a540-438c-9a51-2b6c4c55167a",
   "metadata": {},
   "outputs": [],
   "source": [
    "import random\n",
    "import time\n",
    "import math\n",
    "from copy import deepcopy\n",
    "import math\n",
    "\n",
    "from connect4 import ConnectFour"
   ]
  },
  {
   "cell_type": "markdown",
   "id": "b77f7a21-d7af-4d7d-98a7-7851a9347689",
   "metadata": {},
   "source": [
    "Começamos por criar uma constante, que corresponde a raiz quadrada de 2 (vai ser usada na fórmula UCB).\n",
    "De seguida criamos a classe Node, onde cada nó vai corresponder a uma possivel jogada no jogo.\n",
    "\n",
    "A função init é o construtor da classe que contêm os seguintes atributos:\n",
    "- move -> que corresponde ao nº da coluna onde o jogador vai jogar\n",
    "- parent -> que é o nó pai\n",
    "- N -> que vai ser usada para contar o nº de vezes que o nó vai ser explorado\n",
    "- Q -> o valor estimado da qualidade deste nó\n",
    "- children -> que é um dicionário vazio onde vão ser armazenados os nós filhos do nó atual.\n",
    "- outcome -> o resultado do jogo neste nó\n"
   ]
  },
  {
   "cell_type": "code",
   "execution_count": null,
   "id": "792eb7fe-524d-4ba3-998d-689af5d1566c",
   "metadata": {},
   "outputs": [],
   "source": [
    "EXPLORATION = math.sqrt(2)\n",
    "\n",
    "class Node:\n",
    "    def __init__(self, move, parent, state=ConnectFour()):\n",
    "        self.move = move\n",
    "        self.parent = parent\n",
    "        self.N = 0\n",
    "        self.Q = 0\n",
    "        self.children = {}\n",
    "        self.outcome = state.PLAYER_X"
   ]
  },
  {
   "cell_type": "markdown",
   "id": "e0aa7261-8711-434a-9a13-f8f0be484058",
   "metadata": {},
   "source": [
    "De seguida, adicionamos o método add_children à classe Node, que adiciona nós filhos a um nó especifico da árvore de pesquisa do MCTS. O seu papel é atualizar a estrutura da árvore de pesquisa à medida que mais simulações são executadas."
   ]
  },
  {
   "cell_type": "code",
   "execution_count": null,
   "id": "f9ed2b3a-5454-41b2-a4bb-cf590113f199",
   "metadata": {},
   "outputs": [],
   "source": [
    "    def add_children(self, children: dict) -> None:\n",
    "        for child in children:\n",
    "            self.children[child.move] = child"
   ]
  },
  {
   "cell_type": "markdown",
   "id": "7fe7581f-abd8-4ad7-b207-ce17d34a9dc1",
   "metadata": {},
   "source": [
    "Criamos também o método value que é responsável por calcular o valor de um nó na árvore de pesquisa do MCTS.\n",
    "\n",
    "Começamos por verificar se o nó já foi visitado alguma vez, se não tiver sido significa que ainda não foi explorado e então o seu valor é definido conforme o parâmetro explore. Se explore for zero, o valor retornado é zero, indicando que o nó deve ser totalmente explorado. Caso contrário, o valor retornado é infinito, indicando que o nó deve ser explorado imediantamente.\n",
    "\n",
    "Se o nó foi visitado pelo menos uma vez, a função calcula o valor do nó usando a fórmula UCB que equilibra a exploração e a explotação, tendo em consideração a qualidate estimada do nó e a quantidade de vezes que o nó pai foi visitado em relação ao nº de vezes do nó atual."
   ]
  },
  {
   "cell_type": "code",
   "execution_count": null,
   "id": "d8c4bfce-b823-414c-8f0e-be2368ecaffa",
   "metadata": {},
   "outputs": [],
   "source": [
    "    def value(self, explore: float = EXPLORATION):\n",
    "        if self.N == 0:\n",
    "            return 0 if explore == 0 else float('inf')\n",
    "        else:\n",
    "            return self.Q / self.N + explore * math.sqrt(math.log(self.parent.N) / self.N)"
   ]
  },
  {
   "cell_type": "markdown",
   "id": "684853b6-685d-421f-9f98-48ced2b85666",
   "metadata": {},
   "source": [
    "Criamos uma classe MCTS que representa a implementaçã do algoritmo Monte Carlo Tree Search.\n",
    "\n",
    "A função init é o construtor da classe que contêm os seguintes atributos:\n",
    "- root_state -> que cria uma cópia do estado do jogo\n",
    "- root -> que inicializa o nó da raiz da árvore de pesquisa como um novo objeto da classe Node.\n",
    "- run_time -> que armazena o tempo total de execução do algoritmo\n",
    "- node_count -> que conta o nº total de nós criados na árvore de pesquisa\n",
    "- num_rollouts -> que armazena o nº total de simulações executadas durante o processo de busca\n"
   ]
  },
  {
   "cell_type": "code",
   "execution_count": null,
   "id": "9f0571cc-c6c6-461b-ba83-10e705413025",
   "metadata": {},
   "outputs": [],
   "source": [
    "class MCTS:\n",
    "    def __init__(self, state=ConnectFour()):\n",
    "        self.root_state = deepcopy(state)\n",
    "        self.root = Node(None, None)\n",
    "        self.run_time = 0\n",
    "        self.node_count = 0\n",
    "        self.num_rollouts = 0"
   ]
  },
  {
   "cell_type": "markdown",
   "id": "7cf97bf8-f5fc-44a6-824e-6028116d050d",
   "metadata": {},
   "source": [
    "Posterirormente, criamos a função select_node que seleciona um nó na árvore de pesquisa durante a fase de seleção do algoritmo.\n",
    "\n",
    "Inicializamos a variável node como o nó raiz da árvore de pesquisa e state como uma cópia do estado inicial do jogo.\n",
    "\n",
    "Enquanto o nó atual tem filhos, seleciona-se os filhos com maior valor, utilizando a função max para comparar os valores dos nós filhos. Se existir mais de um filho com o mesmo valor máximo, um deles é escolhido aleatoriamente. O nó escolhido é atualizado como o novo nó atual e o movimento associado é aplicado ao estado do jogo.\n",
    "\n",
    "Se o nó selecionado não foi visitado ainda, o método retorna esse nó e o estado do jogo associado a este.\n",
    "\n",
    "Se o loop terminar, porque o nó atual não possui filhos é feita uma chamada para a função expand para expandir a árvore de busca a partir de este nó. Se esta for bem sucedida, um filho é escolhido aleatoriamente e atualizado como o novo nó atual e o movimento associado é aplicado ao estado do jogo."
   ]
  },
  {
   "cell_type": "code",
   "execution_count": null,
   "id": "d23af381-e665-4990-9de9-fa58d417f3fb",
   "metadata": {},
   "outputs": [],
   "source": [
    "    def select_node(self) -> tuple:\n",
    "        node = self.root\n",
    "        state = deepcopy(self.root_state)\n",
    "\n",
    "        while len(node.children) != 0:\n",
    "            children = node.children.values()\n",
    "            max_value = max(children, key=lambda n: n.value()).value()\n",
    "            max_nodes = [n for n in children if n.value() == max_value]\n",
    "\n",
    "            node = random.choice(max_nodes)\n",
    "            state.move(node.move)\n",
    "\n",
    "            if node.N == 0:\n",
    "                return node, state\n",
    "\n",
    "        if self.expand(node, state):\n",
    "            node = random.choice(list(node.children.values()))\n",
    "            state.move(node.move)\n",
    "\n",
    "        return node, state"
   ]
  },
  {
   "cell_type": "markdown",
   "id": "ec69c6f7-d61b-4405-8522-8340ca51bbbe",
   "metadata": {},
   "source": [
    "A função expand expande a árvore de pesquisa a partir de um nó especifico.\n",
    "\n",
    "Primeiro vê se jogo já terminou, se já tiver terminado não é possivel expandir mais a árvore de busca a partir deste nó, então o método retorna Falso.\n",
    "Depois, obtêm-se uma lista de todas as jogadas possiveis e cria-se uma lista de nós filhos para expandir a árvore. Adiciona-se os nós filhos á arvore de pesquisa chamando o método add_children do nó pai."
   ]
  },
  {
   "cell_type": "code",
   "execution_count": null,
   "id": "4c5dbcaa-aedb-4165-b37b-538317359b9e",
   "metadata": {},
   "outputs": [],
   "source": [
    "    def expand(self, parent: Node, state: ConnectFour) -> bool:\n",
    "        if state.game_over():\n",
    "            return False\n",
    "\n",
    "        children = [Node(move, parent) for move in state.get_legal_moves()]\n",
    "        parent.add_children(children)\n",
    "\n",
    "        return True"
   ]
  },
  {
   "cell_type": "markdown",
   "id": "cbc4dfa6-873e-4954-844f-0cef8e1b719c",
   "metadata": {},
   "source": [
    "Criamos também a função roll_out que realiza um simulação a partir de um determinado estado do jogo até ao fim deste.\n",
    "\n",
    "Enquanto o jogo não acabar, um movimento é escolhido aleatoriamente entre as jogadas possiveis e é realizado aplicando-o ao estado do jogo."
   ]
  },
  {
   "cell_type": "code",
   "execution_count": null,
   "id": "67068581-b8bc-40c2-9762-059b5b092eff",
   "metadata": {},
   "outputs": [],
   "source": [
    "    def roll_out(self, state: ConnectFour) -> int:\n",
    "        while not state.game_over():\n",
    "            state.move(random.choice(state.get_legal_moves()))\n",
    "\n",
    "        return state.get_outcome()"
   ]
  },
  {
   "cell_type": "markdown",
   "id": "18c7d013-7015-425a-8728-0ec5e8713e4b",
   "metadata": {},
   "source": [
    "O método back_propagate atualiza os valores de N e Q de todos os nós na árvore de pesquisa, retrocedendo a partir de um nó especifico até a raiz.\n",
    "\n",
    "Começa por definir um reward. Se o resultado for igual ao do último jogador, o reward é 0, indicando que o jogador ganhou. Caso contrário é 1, indicando que o jogador perdeu.\n",
    "\n",
    "Inicia-se um loop, onde o nº de visitas(N) é incrementado em 1, indicando que foi visitado mais de uma vez e o reward é adicionado ao valor Q do nó.\n",
    "Move-se para o nó pai do nó atual na árvore de pesquisa.\n",
    "Por fim, atualiza o reward para o próximo nó com base no resultado da simulação. Se o resultado for um empate o reward é definica como 0. Caso contrário é ajustada para 1 menos o reward atual."
   ]
  },
  {
   "cell_type": "code",
   "execution_count": null,
   "id": "315d519e-3a9d-46f3-b8db-0009405d29d9",
   "metadata": {},
   "outputs": [],
   "source": [
    "    def back_propagate(self, node: Node, turn: int, outcome: int, state: ConnectFour) -> None:\n",
    "        reward = 0 if outcome == turn else 1\n",
    "\n",
    "        while node is not None:\n",
    "            node.N += 1\n",
    "            node.Q += reward\n",
    "            node = node.parent\n",
    "            if outcome == state.resultado['empate']:\n",
    "                reward = 0\n",
    "            else:\n",
    "                reward = 1 - reward"
   ]
  },
  {
   "cell_type": "markdown",
   "id": "7598a725-ad86-4fa2-a7c4-e90b82b75660",
   "metadata": {},
   "source": [
    "Criamos a função search que executa a etapa principal do algoritmo.\n",
    "\n",
    "Começamos por registar o tempo de início da pesquisa.\n",
    "\n",
    "Inicializamos o contador de simulações para acompanhar o  nº total de simulações realizadas durante a pesquisa.\n",
    "\n",
    "De seguida, iniciamos um loop que continua enquanto o tempo decorrido desde o inicio da pesquisa for menor que o limite de tempo especificado.\n",
    "\n",
    "Seleciona um nó na árvore de pesquisa usando o método select_node e depois realiza uma simulação a partir do estado atual do jogo usando o método roll_out.\n",
    "\n",
    "Atualizam-se os valores de N e Q de todos os nós visitados durante a simulação.\n",
    "\n",
    "Incrementa-se o contador de simulações após cada simulação realizada.\n",
    "\n",
    "Calcula-se o tempo total de exceção da busca subraindo o tempo de inicio do tempo atual.\n",
    "\n",
    "Por fim, atualiza os atributos run_time e num_rollouts da instância da classe com os valores calculados."
   ]
  },
  {
   "cell_type": "code",
   "execution_count": null,
   "id": "184e76b0-fa07-41d4-95d4-176c87741693",
   "metadata": {},
   "outputs": [],
   "source": [
    "    def search(self, time_limit: int):\n",
    "        start_time = time.process_time()\n",
    "\n",
    "        num_rollouts = 0\n",
    "        while time.process_time() - start_time < time_limit:\n",
    "            node, state = self.select_node()\n",
    "            outcome = self.roll_out(state)\n",
    "            self.back_propagate(node, state.to_play, outcome, state)\n",
    "            num_rollouts += 1\n",
    "\n",
    "        run_time = time.process_time() - start_time\n",
    "        self.run_time = run_time\n",
    "        self.num_rollouts = num_rollouts"
   ]
  },
  {
   "cell_type": "markdown",
   "id": "66371da8-4ae4-46ae-81f2-d073e8e5ddd9",
   "metadata": {},
   "source": [
    "A função best_move sleciona o melhor movimento disponível.\n",
    "\n",
    "Começa por verificar se o jogo terminou, e se isto acontecer não há movimentos disponiveis, logo retorna -1.\n",
    "\n",
    "Encontra o valor máximo de visitas (N) entre todos os nós filhos e obtêm todos os nós filhos que têm o valor máximo de visitas.\n",
    "\n",
    "Escolhe aleatoriamente um dos nós filhos que tem o valor máximo de visitas e retorna a jogada associada ao melhor nó filho selecionado."
   ]
  },
  {
   "cell_type": "code",
   "execution_count": null,
   "id": "5577dea4-44b9-4199-906a-62f13bbdb861",
   "metadata": {},
   "outputs": [],
   "source": [
    "    def best_move(self):\n",
    "        if self.root_state.game_over():\n",
    "            return -1\n",
    "\n",
    "        max_value = max(self.root.children.values(), key=lambda n: n.N).N\n",
    "        max_nodes = [n for n in self.root.children.values() if n.N == max_value]\n",
    "        best_child = random.choice(max_nodes)\n",
    "\n",
    "        return best_child.move"
   ]
  },
  {
   "cell_type": "markdown",
   "id": "41a16a8b-809f-4b72-b80f-e77174efefc8",
   "metadata": {},
   "source": [
    "O método move atualiza o estado do jogo e o nó raiz da árvore de pesquisa após ser feito um determinado movimento.\n",
    "\n",
    "Primeiro verifica se o movimento está entre os filhos do nó raiz. Se estiver significa que esse movimento foi explorado durante a busca MCTS e há um nó filho correspondente na árvore de busca.\n",
    "Atualiza o estado do jogo para refletir o movimento realizado e atualiza o nó da raiz para ser o nó correspondente ao movimento realizado na árvore de busca. Retorna, indicando que a função terminou de ser executada após atualizar o estado do jogo e o nó raiz.\n",
    "\n",
    "Se o movimento não estiver entre os filhos do nó raiz, significa que o movimento não foi explorado durante a pesquisa MCTS e a árvore de pesquisa precisa de ser reiniciada. Assim, o método atualiza o estado do jogo chamando o método move do objeto self.root_state com o movimento e, em seguida, redefine o nó raiz para ser um novo nó com None como movimento e pai."
   ]
  },
  {
   "cell_type": "code",
   "execution_count": null,
   "id": "4d42312c-5604-4753-acf7-be329f775fb6",
   "metadata": {},
   "outputs": [],
   "source": [
    "    def move(self, move):\n",
    "        if move in self.root.children:\n",
    "            self.root_state.move(move)\n",
    "            self.root = self.root.children[move]\n",
    "            return\n",
    "\n",
    "        self.root_state.move(move)\n",
    "        self.root = Node(None, None)"
   ]
  },
  {
   "cell_type": "markdown",
   "id": "4e03fb93-d6da-4453-bf07-d24c5f377557",
   "metadata": {},
   "source": [
    "Por fim, criamos o método statistics que retorna estatísticas sobre a última execução de pesquisa MCTS. Este retorna um tuplo que contém o nº total de simulações e o tempo de execução da pesquisa."
   ]
  },
  {
   "cell_type": "code",
   "execution_count": null,
   "id": "2472926a-7e13-4fd4-a0e8-d6f209530cdd",
   "metadata": {},
   "outputs": [],
   "source": [
    "    def statistics(self) -> tuple:\n",
    "        return self.num_rollouts, self.run_time"
   ]
  }
 ],
 "metadata": {
  "kernelspec": {
   "display_name": "Python 3 (ipykernel)",
   "language": "python",
   "name": "python3"
  },
  "language_info": {
   "codemirror_mode": {
    "name": "ipython",
    "version": 3
   },
   "file_extension": ".py",
   "mimetype": "text/x-python",
   "name": "python",
   "nbconvert_exporter": "python",
   "pygments_lexer": "ipython3",
   "version": "3.10.12"
  }
 },
 "nbformat": 4,
 "nbformat_minor": 5
}
