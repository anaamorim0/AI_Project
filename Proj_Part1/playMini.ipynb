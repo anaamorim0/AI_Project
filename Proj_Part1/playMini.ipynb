{
 "cells": [
  {
   "cell_type": "markdown",
   "id": "2611818c-f1b9-4d06-980f-1f63fdb70287",
   "metadata": {
    "editable": true,
    "slideshow": {
     "slide_type": ""
    },
    "tags": []
   },
   "source": [
    "# Play Minimax\n",
    "\n",
    "Este programa junta as classes e métodos previamente definidos num só código para que se possa correr o  jogo Conncect Four user vs Minimax. \n",
    "\n",
    "## Funcionalidade do programa: \n",
    "\n",
    "1. Inicialização do Jogo:\n",
    "- Cria um tabuleiro de jogo usando o método __create_board()__ da classe ConnectFour.\n",
    "- Define o user (PLAYER_X) como o primeiro a jogar.\n",
    "2. Loop Principal do Jogo:\n",
    "- Enquanto o jogo não chega ao fim, o jogo continua alternando os turnos entre o user e o computador.\n",
    "3. Turno do user (PLAYER_X):\n",
    "- O tabuleiro atual é exibido chamando o método __print_board(board)__.\n",
    "- O user é solicitado a escolher uma coluna (entre 0 e 6) para colocar sua peça (X).\n",
    "    - Se a coluna escolhida estiver completa ou a entrada for inválida, o jogador é solicitado a tentar novamente até que uma escolha válida seja feita.\n",
    "- Uma vez escolhida a coluna válida, a peça é colocada na primeira linha vazia da mesma.\n",
    "- Após a jogada, verifica-se se o user ganhou. Se for caso disso, o jogo termina e anuncia o vencedor.\n",
    "4. Turno do Computador (PLAYER_O):\n",
    "- É utilizado o algoritmo Minimax, implementado na classe Minimax, para determinar a melhor coluna onde jogar. O algoritmo considera várias jogadas à frente para maximizar as suas chances de ganhar, minimizando as chances do oponente.\n",
    "- O computador faz sua jogada na coluna determinada pelo algoritmo.\n",
    "- É verificado se o computador ganhou após sua jogada. Se for caso disso, o jogo termina e anuncia o vencedor.\n",
    "5. Verificação de Empate:\n",
    "- Após cada turno, é verificado se o tabuleiro está completo (sem espaços vazios). Se estiver, o jogo termina e é anunciado um empate.\n",
    "6. Alternância de Turnos:\n",
    "- Após cada jogada, os turnos são alternados entre o user e o computador.\n",
    "7. Encerramento do Jogo:\n",
    "- O jogo termina quando há um vencedor ou um empate. O tabuleiro final é exibido em conjunto com uma mensagem indicando o resultado do jogo.\n"
   ]
  },
  {
   "cell_type": "code",
   "execution_count": 8,
   "id": "f21137ea-8c7a-4b85-a7df-9a676e0fa70c",
   "metadata": {
    "editable": true,
    "slideshow": {
     "slide_type": ""
    },
    "tags": []
   },
   "outputs": [],
   "source": [
    "%run \"./ConnectFour.ipynb\""
   ]
  },
  {
   "cell_type": "code",
   "execution_count": 9,
   "id": "0985bf93-6d9a-4397-b1b0-3c8cdb08ada7",
   "metadata": {
    "editable": true,
    "slideshow": {
     "slide_type": ""
    },
    "tags": []
   },
   "outputs": [],
   "source": [
    "%run \"./Minimax.ipynb\""
   ]
  },
  {
   "cell_type": "code",
   "execution_count": 10,
   "id": "12685cfa-d4ac-44e7-95b8-6025fad6a519",
   "metadata": {
    "editable": true,
    "slideshow": {
     "slide_type": ""
    },
    "tags": []
   },
   "outputs": [
    {
     "name": "stdout",
     "output_type": "stream",
     "text": [
      "- - - - - - -\n",
      "- - - - - - -\n",
      "- - - - - - -\n",
      "- - - - - - -\n",
      "- - - - - - -\n",
      "- - - - - - -\n"
     ]
    },
    {
     "name": "stdin",
     "output_type": "stream",
     "text": [
      "Escolhe uma coluna entre 0 e 6:  1\n"
     ]
    },
    {
     "name": "stdout",
     "output_type": "stream",
     "text": [
      "- - - - - - -\n",
      "- - - - - - -\n",
      "- - - - - - -\n",
      "- - - - - - -\n",
      "- - - - - - -\n",
      "- X - - - - -\n",
      "O computador jogou...\n",
      "- - - - - - -\n",
      "- - - - - - -\n",
      "- - - - - - -\n",
      "- - - - - - -\n",
      "- - - - - - -\n",
      "O X - - - - -\n"
     ]
    },
    {
     "name": "stdin",
     "output_type": "stream",
     "text": [
      "Escolhe uma coluna entre 0 e 6:  0\n"
     ]
    },
    {
     "name": "stdout",
     "output_type": "stream",
     "text": [
      "- - - - - - -\n",
      "- - - - - - -\n",
      "- - - - - - -\n",
      "- - - - - - -\n",
      "X - - - - - -\n",
      "O X - - - - -\n",
      "O computador jogou...\n",
      "- - - - - - -\n",
      "- - - - - - -\n",
      "- - - - - - -\n",
      "O - - - - - -\n",
      "X - - - - - -\n",
      "O X - - - - -\n"
     ]
    },
    {
     "name": "stdin",
     "output_type": "stream",
     "text": [
      "Escolhe uma coluna entre 0 e 6:  0\n"
     ]
    },
    {
     "name": "stdout",
     "output_type": "stream",
     "text": [
      "- - - - - - -\n",
      "- - - - - - -\n",
      "X - - - - - -\n",
      "O - - - - - -\n",
      "X - - - - - -\n",
      "O X - - - - -\n",
      "O computador jogou...\n",
      "- - - - - - -\n",
      "O - - - - - -\n",
      "X - - - - - -\n",
      "O - - - - - -\n",
      "X - - - - - -\n",
      "O X - - - - -\n"
     ]
    },
    {
     "name": "stdin",
     "output_type": "stream",
     "text": [
      "Escolhe uma coluna entre 0 e 6:  0\n"
     ]
    },
    {
     "name": "stdout",
     "output_type": "stream",
     "text": [
      "X - - - - - -\n",
      "O - - - - - -\n",
      "X - - - - - -\n",
      "O - - - - - -\n",
      "X - - - - - -\n",
      "O X - - - - -\n",
      "O computador jogou...\n",
      "X - - - - - -\n",
      "O - - - - - -\n",
      "X - - - - - -\n",
      "O - - - - - -\n",
      "X O - - - - -\n",
      "O X - - - - -\n"
     ]
    },
    {
     "name": "stdin",
     "output_type": "stream",
     "text": [
      "Escolhe uma coluna entre 0 e 6:  0\n"
     ]
    },
    {
     "name": "stdout",
     "output_type": "stream",
     "text": [
      "Esta coluna está completa! Tenta outra vez.\n"
     ]
    },
    {
     "name": "stdin",
     "output_type": "stream",
     "text": [
      "Escolhe uma coluna entre 0 e 6:  1\n"
     ]
    },
    {
     "name": "stdout",
     "output_type": "stream",
     "text": [
      "X - - - - - -\n",
      "O - - - - - -\n",
      "X - - - - - -\n",
      "O X - - - - -\n",
      "X O - - - - -\n",
      "O X - - - - -\n",
      "O computador jogou...\n",
      "X - - - - - -\n",
      "O - - - - - -\n",
      "X O - - - - -\n",
      "O X - - - - -\n",
      "X O - - - - -\n",
      "O X - - - - -\n"
     ]
    },
    {
     "name": "stdin",
     "output_type": "stream",
     "text": [
      "Escolhe uma coluna entre 0 e 6:  1\n"
     ]
    },
    {
     "name": "stdout",
     "output_type": "stream",
     "text": [
      "X - - - - - -\n",
      "O X - - - - -\n",
      "X O - - - - -\n",
      "O X - - - - -\n",
      "X O - - - - -\n",
      "O X - - - - -\n",
      "O computador jogou...\n",
      "X O - - - - -\n",
      "O X - - - - -\n",
      "X O - - - - -\n",
      "O X - - - - -\n",
      "X O - - - - -\n",
      "O X - - - - -\n"
     ]
    },
    {
     "name": "stdin",
     "output_type": "stream",
     "text": [
      "Escolhe uma coluna entre 0 e 6:  6\n"
     ]
    },
    {
     "name": "stdout",
     "output_type": "stream",
     "text": [
      "X O - - - - -\n",
      "O X - - - - -\n",
      "X O - - - - -\n",
      "O X - - - - -\n",
      "X O - - - - -\n",
      "O X - - - - X\n",
      "O computador jogou...\n",
      "X O - - - - -\n",
      "O X - - - - -\n",
      "X O - - - - -\n",
      "O X - - - - -\n",
      "X O - - - - -\n",
      "O X O - - - X\n"
     ]
    },
    {
     "name": "stdin",
     "output_type": "stream",
     "text": [
      "Escolhe uma coluna entre 0 e 6:  6\n"
     ]
    },
    {
     "name": "stdout",
     "output_type": "stream",
     "text": [
      "X O - - - - -\n",
      "O X - - - - -\n",
      "X O - - - - -\n",
      "O X - - - - -\n",
      "X O - - - - X\n",
      "O X O - - - X\n",
      "O computador jogou...\n",
      "X O - - - - -\n",
      "O X - - - - -\n",
      "X O - - - - -\n",
      "O X - - - - -\n",
      "X O O - - - X\n",
      "O X O - - - X\n"
     ]
    },
    {
     "name": "stdin",
     "output_type": "stream",
     "text": [
      "Escolhe uma coluna entre 0 e 6:  6\n"
     ]
    },
    {
     "name": "stdout",
     "output_type": "stream",
     "text": [
      "X O - - - - -\n",
      "O X - - - - -\n",
      "X O - - - - -\n",
      "O X - - - - X\n",
      "X O O - - - X\n",
      "O X O - - - X\n",
      "O computador jogou...\n",
      "X O - - - - -\n",
      "O X - - - - -\n",
      "X O - - - - O\n",
      "O X - - - - X\n",
      "X O O - - - X\n",
      "O X O - - - X\n"
     ]
    },
    {
     "name": "stdin",
     "output_type": "stream",
     "text": [
      "Escolhe uma coluna entre 0 e 6:  6\n"
     ]
    },
    {
     "name": "stdout",
     "output_type": "stream",
     "text": [
      "X O - - - - -\n",
      "O X - - - - X\n",
      "X O - - - - O\n",
      "O X - - - - X\n",
      "X O O - - - X\n",
      "O X O - - - X\n",
      "O computador jogou...\n",
      "X O - - - - -\n",
      "O X - - - - X\n",
      "X O - - - - O\n",
      "O X O - - - X\n",
      "X O O - - - X\n",
      "O X O - - - X\n"
     ]
    },
    {
     "name": "stdin",
     "output_type": "stream",
     "text": [
      "Escolhe uma coluna entre 0 e 6:  6\n"
     ]
    },
    {
     "name": "stdout",
     "output_type": "stream",
     "text": [
      "X O - - - - X\n",
      "O X - - - - X\n",
      "X O - - - - O\n",
      "O X O - - - X\n",
      "X O O - - - X\n",
      "O X O - - - X\n",
      "O computador jogou...\n",
      "X O - - - - X\n",
      "O X - - - - X\n",
      "X O O - - - O\n",
      "O X O - - - X\n",
      "X O O - - - X\n",
      "O X O - - - X\n",
      "O jogador O ganhou!!!\n"
     ]
    }
   ],
   "source": [
    "from connect4 import ConnectFour\n",
    "from minimax import Minimax\n",
    "\n",
    "def game():\n",
    "    board = ConnectFour().create_board()\n",
    "    player_turn = ConnectFour().PLAYER_X\n",
    "\n",
    "    while True:\n",
    "        ConnectFour().print_board(board)\n",
    "        if player_turn == ConnectFour().PLAYER_X:\n",
    "            while True:\n",
    "                try:\n",
    "                    column_X = int(input(\"Escolhe uma coluna entre 0 e 6: \"))\n",
    "                    if not ConnectFour().is_valid_column(board, column_X):\n",
    "                        print(\"Esta coluna está completa! Tenta outra vez.\")\n",
    "                    else:\n",
    "                        break\n",
    "                except ValueError:\n",
    "                    print(\"Esta entrada é inválida! Por favor, escolhe uma coluna de 0 a 6:\")\n",
    "\n",
    "            row_X = ConnectFour().empty_row(board, column_X)\n",
    "            ConnectFour().drop_token(board, row_X, column_X, ConnectFour().PLAYER_X)\n",
    "\n",
    "            if ConnectFour().win(board, ConnectFour().PLAYER_X):\n",
    "                ConnectFour().print_board(board)\n",
    "                print(\"O jogador X ganhou!!!\")\n",
    "                break\n",
    "        else:\n",
    "            print(\"O computador jogou...\")\n",
    "            _, column_O = Minimax().minimax(Minimax().Node(board, None, None), 4, float('-inf'), float('inf'), False)\n",
    "            if column_O is not None:\n",
    "                row_O = ConnectFour().empty_row(board, column_O)\n",
    "                ConnectFour().drop_token(board, row_O, column_O, ConnectFour().PLAYER_O)\n",
    "\n",
    "            if ConnectFour().win(board, ConnectFour().PLAYER_O):\n",
    "                ConnectFour().print_board(board)\n",
    "                print(\"O jogador O ganhou!!!\")\n",
    "                break\n",
    "\n",
    "        if ConnectFour().complete():\n",
    "            ConnectFour().print_board(board)\n",
    "            print(\"Empate\")\n",
    "            break\n",
    "\n",
    "        player_turn = ConnectFour().PLAYER_O if player_turn == ConnectFour().PLAYER_X else ConnectFour().PLAYER_X\n",
    "\n",
    "if __name__ == \"__main__\":\n",
    "    game()"
   ]
  },
  {
   "cell_type": "code",
   "execution_count": null,
   "id": "b74bae77-312c-4816-ab6d-e293c6707f39",
   "metadata": {},
   "outputs": [],
   "source": []
  }
 ],
 "metadata": {
  "kernelspec": {
   "display_name": "Python 3 (ipykernel)",
   "language": "python",
   "name": "python3"
  },
  "language_info": {
   "codemirror_mode": {
    "name": "ipython",
    "version": 3
   },
   "file_extension": ".py",
   "mimetype": "text/x-python",
   "name": "python",
   "nbconvert_exporter": "python",
   "pygments_lexer": "ipython3",
   "version": "3.12.2"
  }
 },
 "nbformat": 4,
 "nbformat_minor": 5
}
