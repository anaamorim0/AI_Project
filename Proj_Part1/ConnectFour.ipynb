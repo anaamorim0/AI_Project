{
 "cells": [
  {
   "cell_type": "markdown",
   "id": "53b2c56a-ceb8-41c7-b0f1-e68571c1693d",
   "metadata": {
    "editable": true,
    "slideshow": {
     "slide_type": ""
    },
    "tags": []
   },
   "source": [
    "# Class ConnectFour\n",
    "\n",
    "O seguinte programa define uma classe ConnectFour, que contém os métodos necessários para a estrutura e funcionalidade básica do jogo _4 em Linha_."
   ]
  },
  {
   "cell_type": "markdown",
   "id": "a9c26a6e-4de1-4d36-acd2-bab8fa169d50",
   "metadata": {
    "editable": true,
    "slideshow": {
     "slide_type": ""
    },
    "tags": []
   },
   "source": [
    "Começamos por definir o método __ __init__ __ que serve para declarar constantes que serão usadas por todo o código.\n",
    "1. '-' representa os espaços vazios no tabuleiro\n",
    "2. 'X' representa as peças do jogador X\n",
    "3. 'O' representa as peças do jogador O\n",
    "4. O tabuleiro terá 6 linhas e 7 colunas\n",
    "5. 4 é o número de peças seguidas necessárias para ganhar\n",
    "6. self.board = self.create_board() : Inicializa o tabuleiro do jogo chamando o método create_board."
   ]
  },
  {
   "cell_type": "code",
   "execution_count": 1,
   "id": "196c22c2-549a-4e74-a7a3-850bb11f4ac7",
   "metadata": {
    "editable": true,
    "slideshow": {
     "slide_type": ""
    },
    "tags": []
   },
   "outputs": [],
   "source": [
    "class ConnectFour:\n",
    "    def __init__(self):\n",
    "        self.EMPTY = '-'  \n",
    "        self.PLAYER_X = 'X'\n",
    "        self.PLAYER_O = 'O'     \n",
    "        self.ROWS = 6       \n",
    "        self.COLUMNS = 7    \n",
    "        self.WIN = 4  \n",
    "        self.board = self.create_board()"
   ]
  },
  {
   "cell_type": "markdown",
   "id": "44e67693-73da-4b99-9d19-670eeea26320",
   "metadata": {
    "editable": true,
    "slideshow": {
     "slide_type": ""
    },
    "tags": []
   },
   "source": [
    "O método __create_board__ cria uma matriz vazia que representa o tabuleiro e retorna-a. Para cada espaço no tabuleiro é adicionado o caractere '-' à matriz."
   ]
  },
  {
   "cell_type": "code",
   "execution_count": 2,
   "id": "a91d5f0a-a163-4907-9471-b9980f8b82e9",
   "metadata": {
    "editable": true,
    "slideshow": {
     "slide_type": ""
    },
    "tags": []
   },
   "outputs": [],
   "source": [
    "    def create_board(self):\n",
    "        board = []\n",
    "        for i in range(self.ROWS):\n",
    "            row = []\n",
    "            for j in range(self.COLUMNS):\n",
    "                row.append(self.EMPTY)\n",
    "            board.append(row)\n",
    "        return board"
   ]
  },
  {
   "cell_type": "markdown",
   "id": "33045bfa-75a3-4502-baa7-72ae3f1cd8f8",
   "metadata": {
    "editable": true,
    "slideshow": {
     "slide_type": ""
    },
    "tags": []
   },
   "source": [
    "O método __print_board__ imprime a matriz do fim papra o início e converte cada linha da matriz num String. "
   ]
  },
  {
   "cell_type": "code",
   "execution_count": 3,
   "id": "bdb861b7-c1fc-4559-b834-cef5c10f2918",
   "metadata": {
    "editable": true,
    "slideshow": {
     "slide_type": ""
    },
    "tags": []
   },
   "outputs": [],
   "source": [
    "    def print_board(self, board):\n",
    "        for r in reversed(board):\n",
    "            print(\" \".join(r))"
   ]
  },
  {
   "cell_type": "markdown",
   "id": "282b249c-71ca-4371-9d01-ffd7ed958b70",
   "metadata": {
    "editable": true,
    "slideshow": {
     "slide_type": ""
    },
    "tags": []
   },
   "source": [
    "O método __copy_board__ copia a matriz como ela está no momento. Ou seja o estado dela depois de várias jogadas por parte de ambos os jogadores."
   ]
  },
  {
   "cell_type": "code",
   "execution_count": 4,
   "id": "147b2f7c-6491-4e6c-afce-23ab3dd1e1a5",
   "metadata": {
    "editable": true,
    "slideshow": {
     "slide_type": ""
    },
    "tags": []
   },
   "outputs": [],
   "source": [
    "    def copy_board(self, board):\n",
    "        new_board = []\n",
    "        for row in board:\n",
    "            new_row = []\n",
    "            for token in row:\n",
    "                new_row.append(token)\n",
    "            new_board.append(new_row)\n",
    "        return new_board"
   ]
  },
  {
   "cell_type": "markdown",
   "id": "76665d55-d2c5-4d12-9b58-13cb8a62ebc3",
   "metadata": {
    "editable": true,
    "slideshow": {
     "slide_type": ""
    },
    "tags": []
   },
   "source": [
    "O método __drop_token__ coloca uma peça na linha 'row' e coluna 'col' que são dadas como argumentos da função."
   ]
  },
  {
   "cell_type": "code",
   "execution_count": 5,
   "id": "ed54ed19-9db4-45e2-be58-6bf92c774c20",
   "metadata": {
    "editable": true,
    "slideshow": {
     "slide_type": ""
    },
    "tags": []
   },
   "outputs": [],
   "source": [
    "    def drop_token(self, board, row, col, token):\n",
    "        board[row][col] = token"
   ]
  },
  {
   "cell_type": "markdown",
   "id": "9b5a3b98-c6e0-41a4-a51d-4433816db7bd",
   "metadata": {
    "editable": true,
    "slideshow": {
     "slide_type": ""
    },
    "tags": []
   },
   "source": [
    "O método __is_valid_column__ verifica se uma coluna tem slots suficientes para receber uma peça."
   ]
  },
  {
   "cell_type": "code",
   "execution_count": 6,
   "id": "7feabe6b-441f-4708-8c14-8cdde4a40bdc",
   "metadata": {
    "editable": true,
    "slideshow": {
     "slide_type": ""
    },
    "tags": []
   },
   "outputs": [],
   "source": [
    "    def is_valid_column(self, board, col):\n",
    "        return 0 <= col < self.COLUMNS and board[self.ROWS - 1][col] == self.EMPTY"
   ]
  },
  {
   "cell_type": "markdown",
   "id": "a35bcf51-9b83-4f5a-89e7-0eb826dd3d08",
   "metadata": {
    "editable": true,
    "slideshow": {
     "slide_type": ""
    },
    "tags": []
   },
   "source": [
    "O método __empty_row__ encontra a próxima linha vazia numa coluna e retorna -1 se a coluna dada como argumento estiver cheia."
   ]
  },
  {
   "cell_type": "code",
   "execution_count": 7,
   "id": "a56b6143-013c-4997-ab02-6e1736b9e169",
   "metadata": {
    "editable": true,
    "slideshow": {
     "slide_type": ""
    },
    "tags": []
   },
   "outputs": [],
   "source": [
    "    def empty_row(self, board, col):\n",
    "        for r in range(self.ROWS):\n",
    "            if board[r][col] == self.EMPTY:\n",
    "                return r\n",
    "        return -1  "
   ]
  },
  {
   "cell_type": "markdown",
   "id": "7abb45ec-d084-40ad-aa8b-b088d80ddf54",
   "metadata": {
    "editable": true,
    "slideshow": {
     "slide_type": ""
    },
    "tags": []
   },
   "source": [
    "O método __win__ verifica todas as possíveis sequências de 4 peças iguais no tabuleiro, seja horizontal-, vertical- ou diagonalmente.\n",
    "Se encontrar uma sequência que satisfaz a condição de vitória, retorna True. Caso contrário, retorna False.\n",
    "\n",
    "Este método verifica primeiro as posições horizontais, de seguida as verticais e por fim a diagonal positiva e negativa.\n",
    "\n",
    "-> -3 porque é impossível um jogador ganhar apenas nas 3 últimas colunas/ linhas."
   ]
  },
  {
   "cell_type": "code",
   "execution_count": 8,
   "id": "985d9f3f-6042-4571-8370-4bebb752d4a5",
   "metadata": {
    "editable": true,
    "slideshow": {
     "slide_type": ""
    },
    "tags": []
   },
   "outputs": [],
   "source": [
    "    def win(self, board, token):\n",
    "        for r in range(self.ROWS):\n",
    "            for c in range(self.COLUMNS - 3):    \n",
    "                if board[r][c] == token and board[r][c+1] == token and board[r][c+2] == token and board[r][c+3] == token:\n",
    "                    return True\n",
    "\n",
    "        for r in range(self.ROWS - 3):\n",
    "            for c in range(self.COLUMNS):\n",
    "                if board[r][c] == token and board[r+1][c] == token and board[r+2][c] == token and board[r+3][c] == token:\n",
    "                    return True\n",
    "\n",
    "        for r in range(self.ROWS - 3):\n",
    "            for c in range(self.COLUMNS - 3):\n",
    "                if board[r][c] == token and board[r+1][c+1] == token and board[r+2][c+2] == token and board[r+3][c+3] == token:\n",
    "                    return True\n",
    "\n",
    "        for r in range(self.ROWS - 3):\n",
    "            for c in range(3, self.COLUMNS):\n",
    "                if board[r][c] == token and board[r+1][c-1] == token and board[r+2][c-2] == token and board[r+3][c-3] == token:\n",
    "                    return True\n",
    "\n",
    "        return False"
   ]
  },
  {
   "cell_type": "markdown",
   "id": "eb70a2e6-3025-472f-b109-fd483d5106ab",
   "metadata": {
    "editable": true,
    "slideshow": {
     "slide_type": ""
    },
    "tags": []
   },
   "source": [
    "O método __complete__ verifica se o tabuleiro está completo (todos os slots foram preenchidos por peças)."
   ]
  },
  {
   "cell_type": "code",
   "execution_count": 9,
   "id": "78a04b73-7b23-4bae-8eb0-ae156ac9bd08",
   "metadata": {
    "editable": true,
    "slideshow": {
     "slide_type": ""
    },
    "tags": []
   },
   "outputs": [],
   "source": [
    "    def complete(self):\n",
    "        board = self.board\n",
    "        for row in board:\n",
    "            for cell in row:\n",
    "                if cell == self.EMPTY:\n",
    "                    return False\n",
    "        return True"
   ]
  }
 ],
 "metadata": {
  "kernelspec": {
   "display_name": "Python 3 (ipykernel)",
   "language": "python",
   "name": "python3"
  },
  "language_info": {
   "codemirror_mode": {
    "name": "ipython",
    "version": 3
   },
   "file_extension": ".py",
   "mimetype": "text/x-python",
   "name": "python",
   "nbconvert_exporter": "python",
   "pygments_lexer": "ipython3",
   "version": "3.12.2"
  }
 },
 "nbformat": 4,
 "nbformat_minor": 5
}
