{
 "cells": [
  {
   "cell_type": "markdown",
   "id": "f6125230-0d7e-42ec-aa16-c107a4e1e0aa",
   "metadata": {
    "editable": true,
    "slideshow": {
     "slide_type": ""
    },
    "tags": []
   },
   "source": [
    "# Algoritmo Minimax\n",
    "\n",
    "O seguinte programa importa primeiramente a classe ConnectFour do módulo connect4 e de seguida define uma classe Minimax e uma subclasse Node. \n",
    "\n",
    "Neste programa estão definidos métodos para o funcionamento do Algoritmo Minimax com Alpha-Beta Pruning no jogo Connect 4. \n",
    "\n",
    "Este algoritmo de decisão é usado para que o computador possa determinar qual a próxima melhor jogada. Ele avalia todas as próximas jogadas possíveis (até uma certa profundidade) para conseguir fazer essa determinação.\n",
    "Este algoritmo é depois otimizado com Alpha-Beta Pruning para reduzir o número de nós avaliados no espaço de busca, eliminando assim a necessidade de explorar caminhos que já se provaram inferiores a outros já examinados."
   ]
  },
  {
   "cell_type": "code",
   "execution_count": 4,
   "id": "b3ec228c-095a-4635-a000-262bb7bceecf",
   "metadata": {
    "editable": true,
    "slideshow": {
     "slide_type": ""
    },
    "tags": []
   },
   "outputs": [],
   "source": [
    "%run \"./ConnectFour.ipynb\""
   ]
  },
  {
   "cell_type": "code",
   "execution_count": 9,
   "id": "58bacacf-7015-4d4f-b504-ac4c57a84154",
   "metadata": {
    "editable": true,
    "slideshow": {
     "slide_type": ""
    },
    "tags": []
   },
   "outputs": [],
   "source": [
    "from connect4 import ConnectFour"
   ]
  },
  {
   "cell_type": "markdown",
   "id": "dd79ec69-2f36-40f9-ab3c-97f7b131006c",
   "metadata": {
    "editable": true,
    "slideshow": {
     "slide_type": ""
    },
    "tags": []
   },
   "source": [
    "___Class Node___\n",
    "\n",
    "A subclasse definida neste programa (class Node) é crucial para a criação da árvore de decisão usada pelo algoritmo Minimax. Ela também é usada para a representação do estado do jogo numa determinada altura, útil para avaliar as jogadas possíveis nesse ponto, verificar vitórias ou determinar se o jogo chegou ao fim.\n",
    "\n",
    "Quanto à sua estrutura, este classe é muito simples. O seu método construturor __ __init__ __ tem 3 atributos 'board', 'parent', e 'move' que armazenam o estado atuyal do tabuleiro, o nó pai do nó atual e a jogada que levou ao estado atual do tabuleiro respetivamente.\n",
    "\n",
    "O método __ __eq__ __ define a igualdade entre dois nós baseando-se nos estados do tabuleiro e o método __ __hash__ __ gera um hash baseado na representação do tabuleiro como uma string."
   ]
  },
  {
   "cell_type": "code",
   "execution_count": 10,
   "id": "f15bbd0e-8701-4ce3-8d25-495270de599e",
   "metadata": {
    "editable": true,
    "slideshow": {
     "slide_type": ""
    },
    "tags": []
   },
   "outputs": [],
   "source": [
    "class Minimax:\n",
    "    class Node:\n",
    "        def __init__(self, board, parent, move):\n",
    "            self.board = board\n",
    "            self.parent = parent\n",
    "            self.move = move\n",
    "\n",
    "        def __eq__(self, other):\n",
    "            return self.board == other.board \n",
    "\n",
    "        def __hash__(self):\n",
    "            return hash(str(self.board))"
   ]
  },
  {
   "cell_type": "markdown",
   "id": "4b1fde7a-89f6-4e56-b960-6cfa0e0d5841",
   "metadata": {
    "editable": true,
    "slideshow": {
     "slide_type": ""
    },
    "tags": []
   },
   "source": [
    "O método __static_evaluation__ serve para a avaliação estática do tabuleiro. Ele verifica se algum dos jogadores venceu e retorna uma avaliação positiva (vitória do jogador X, _user_) ou negativa (vitória para o jogador O, _computador_). Caso constrário, retorna 0 (empate ou jogo não finalizado)."
   ]
  },
  {
   "cell_type": "code",
   "execution_count": 11,
   "id": "9e4b89e4-0617-46be-934a-46dbeca025ec",
   "metadata": {
    "editable": true,
    "slideshow": {
     "slide_type": ""
    },
    "tags": []
   },
   "outputs": [],
   "source": [
    "    def static_evaluation(self, board):\n",
    "        winner = ConnectFour().win(board, ConnectFour().PLAYER_X)\n",
    "        winner2 = ConnectFour().win(board, ConnectFour().PLAYER_O)\n",
    "        if winner == True:\n",
    "            return 100 \n",
    "        elif winner2 == True:\n",
    "            return -100\n",
    "        else:\n",
    "            return 0"
   ]
  },
  {
   "cell_type": "markdown",
   "id": "608b085e-221d-41c9-8744-5fc5617d7f4d",
   "metadata": {
    "editable": true,
    "slideshow": {
     "slide_type": ""
    },
    "tags": []
   },
   "source": [
    "O método __create_child__ serve para criar os filhos de um nó, representando possíveis jogadas seguintes. \n",
    "Para cada coluna válida, é simulada a jogada do jogador, cria um novo nó filho e adiciona-o à lista de filhos."
   ]
  },
  {
   "cell_type": "code",
   "execution_count": 12,
   "id": "e92fd4cf-6df3-4980-8049-52af18d02ac0",
   "metadata": {
    "editable": true,
    "slideshow": {
     "slide_type": ""
    },
    "tags": []
   },
   "outputs": [],
   "source": [
    "    def create_child(self, node, player):\n",
    "\n",
    "        children = []\n",
    "        for col in range(ConnectFour().COLUMNS):\n",
    "            if ConnectFour().is_valid_column(node.board, col):\n",
    "                row = ConnectFour().empty_row(node.board, col)\n",
    "                new_board = ConnectFour().copy_board(node.board)\n",
    "                ConnectFour().drop_token(new_board, row, col, player)\n",
    "                new_node = self.Node(new_board, node, col)\n",
    "                children.append(new_node)\n",
    "\n",
    "        return children  "
   ]
  },
  {
   "cell_type": "markdown",
   "id": "cc3df8d1-9000-4d6c-a8c4-b1509ef67140",
   "metadata": {
    "editable": true,
    "slideshow": {
     "slide_type": ""
    },
    "tags": []
   },
   "source": [
    "O método __minimax__ é o que implementa o algoritmo Minimax com Alpha-Beta Pruning.\n",
    "Ele começa por verificar se a profundidade é zero, se algum dos jogadores venceu ou se o jogo está completo (empate) e se for case disso retorna a avaliação estática do tabuleiro e a jogada que levou a esse estado.\n",
    "\n",
    "## Lógica para o jogador maximizador (maximizingPlayer = 'True')\n",
    "\n",
    "- Se for a vez do jogador maximizador, o método procura a jogada que resulta no maior benefício (maximiza a avaliação). Ele itera sobre todos os possíveis movimentos (\"filhos\") do estado atual do jogo, chamando recursivamente o algoritmo Minimax para cada filho com a profundidade diminuída por um e alternando para o jogador minimizador.\n",
    "- Se a avaliação de um filho exceder o valor atual de alpha, este é atualizado para esse valor. Se beta se tornar menor ou igual a alpha, a iteração é interrompida, já que os movimentos restantes não afetarão o resultado final.\n",
    "\n",
    "## Lógica para o jogador minimizador (maximizingPlayer = 'False')\n",
    "\n",
    "- Se for a vez do jogador minimizador, o método procura a jogada que resulta no menor benefício (minimiza a avaliação). Ele segue um processo semelhante ao do maximizador, mas procura minimizar a avaliação e atualiza a variável beta em vez de alpha.\n",
    "- Se a variável beta se tornar menor ou igual a alpha a iteração é interrompida pelos movimentos restantes, já que esses movimentos não podem produzir um resultado melhor para o minimizador."
   ]
  },
  {
   "cell_type": "code",
   "execution_count": null,
   "id": "6c867d88-a40e-4b87-980c-98fda391e581",
   "metadata": {
    "editable": true,
    "slideshow": {
     "slide_type": ""
    },
    "tags": []
   },
   "outputs": [],
   "source": [
    "def minimax(self, node, depth, alpha, beta, maximizingPlayer):\n",
    "        if depth == 0 or ConnectFour().win(node.board, ConnectFour().PLAYER_X) or ConnectFour().win(node.board, ConnectFour().PLAYER_O) or ConnectFour().complete(): #game == 0 ou game over ou ja ganhou ou empate\n",
    "            return Minimax().static_evaluation(node.board), node.move\n",
    "\n",
    "        if maximizingPlayer:\n",
    "            maxEval = float('-inf') \n",
    "            bestPlay = None\n",
    "            for child in Minimax().create_child(node, ConnectFour().PLAYER_X):\n",
    "                eval, _ = Minimax().minimax(child, depth - 1, alpha, beta, False)\n",
    "                if eval > maxEval:\n",
    "                    maxEval = eval\n",
    "                    bestPlay = child.move\n",
    "                alpha = max(alpha, eval)\n",
    "                if beta <= alpha:\n",
    "                    break\n",
    "            return maxEval, bestPlay\n",
    "        else:\n",
    "            minEval = float('inf') \n",
    "            bestPlay = None\n",
    "            for child in Minimax().create_child(node, ConnectFour().PLAYER_O):\n",
    "                eval, _ = Minimax().minimax(child, depth - 1, alpha, beta, True)\n",
    "                if eval < minEval:\n",
    "                    minEval = eval\n",
    "                    bestPlay = child.move\n",
    "                beta = min(beta, eval)\n",
    "                if beta <= alpha:\n",
    "                    break\n",
    "            return minEval, bestPlay"
   ]
  }
 ],
 "metadata": {
  "kernelspec": {
   "display_name": "Python 3 (ipykernel)",
   "language": "python",
   "name": "python3"
  },
  "language_info": {
   "codemirror_mode": {
    "name": "ipython",
    "version": 3
   },
   "file_extension": ".py",
   "mimetype": "text/x-python",
   "name": "python",
   "nbconvert_exporter": "python",
   "pygments_lexer": "ipython3",
   "version": "3.12.2"
  }
 },
 "nbformat": 4,
 "nbformat_minor": 5
}
